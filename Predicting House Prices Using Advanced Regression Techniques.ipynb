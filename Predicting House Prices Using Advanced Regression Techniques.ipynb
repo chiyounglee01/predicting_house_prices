{
 "cells": [
  {
   "cell_type": "markdown",
   "id": "6db7d4f8",
   "metadata": {},
   "source": [
    "**OVERVIEW**"
   ]
  },
  {
   "cell_type": "markdown",
   "id": "ddf5e024",
   "metadata": {},
   "source": [
    "**The goal of this project was to develop a predictive model for estimating house prices based on a range of features provided in the dataset. This project, hosted on Kaggle [here](https://www.kaggle.com/competitions/house-prices-advanced-regression-techniques/overview), involved applying advanced regression techniques to a dataset of house sale prices in Ames, Iowa. The challenge was to build a model that can accurately predict house prices based on both numeric and categorical features.**"
   ]
  },
  {
   "cell_type": "markdown",
   "id": "8a2f4779",
   "metadata": {},
   "source": [
    "**Pre-Process and clean the data**"
   ]
  },
  {
   "cell_type": "code",
   "execution_count": 1,
   "id": "3e8ff2b7",
   "metadata": {},
   "outputs": [],
   "source": [
    "import gc\n",
    "import numpy as np\n",
    "from numpy import hstack\n",
    "from numpy import array\n",
    "import pandas as pd\n",
    "import matplotlib.pyplot as plt\n",
    "import seaborn as sns\n",
    "from scipy import stats\n",
    "from scipy.stats import norm, skew"
   ]
  },
  {
   "cell_type": "markdown",
   "id": "a06ba910",
   "metadata": {},
   "source": [
    "**Read and import datasets**"
   ]
  },
  {
   "cell_type": "code",
   "execution_count": 2,
   "id": "2dc8f3c1",
   "metadata": {},
   "outputs": [],
   "source": [
    "train = pd.read_csv('ames_data/train.csv', low_memory = False)"
   ]
  },
  {
   "cell_type": "code",
   "execution_count": 3,
   "id": "18dabb5f",
   "metadata": {},
   "outputs": [],
   "source": [
    "test = pd.read_csv('ames_data/test.csv', low_memory = False)"
   ]
  },
  {
   "cell_type": "code",
   "execution_count": 4,
   "id": "b5c4bb81",
   "metadata": {},
   "outputs": [
    {
     "name": "stdout",
     "output_type": "stream",
     "text": [
      "MSSubClass: Identifies the type of dwelling involved in the sale.\t\n",
      "\n",
      "        20\t1-STORY 1946 & NEWER ALL STYLES\n",
      "        30\t1-STORY 1945 & OLDER\n",
      "        40\t1-STORY W/FINISHED ATTIC ALL AGES\n",
      "        45\t1-1/2 STORY - UNFINISHED ALL AGES\n",
      "        50\t1-1/2 STORY FINISHED ALL AGES\n",
      "        60\t2-STORY 1946 & NEWER\n",
      "        70\t2-STORY 1945 & OLDER\n",
      "        75\t2-1/2 STORY ALL AGES\n",
      "        80\tSPLIT OR MULTI-LEVEL\n",
      "        85\tSPLIT FOYER\n",
      "        90\tDUPLEX - ALL STYLES AND AGES\n",
      "       120\t1-STORY PUD (Planned Unit Development) - 1946 & NEWER\n",
      "       150\t1-1/2 STORY PUD - ALL AGES\n",
      "       160\t2-STORY PUD - 1946 & NEWER\n",
      "       180\tPUD - MULTILEVEL - INCL SPLIT LEV/FOYER\n",
      "       190\t2 FAMILY CONVERSION - ALL STYLES AND AGES\n",
      "\n",
      "MSZoning: Identifies the general zoning classification of the sale.\n",
      "\t\t\n",
      "       A\tAgriculture\n",
      "       C\tCommercial\n",
      "       FV\tFloating Village Residential\n",
      "       I\tIndustrial\n",
      "       RH\tResidential High Density\n",
      "       RL\tResidential Low Density\n",
      "       RP\tResidential Low Density Park \n",
      "       RM\tResidential Medium Density\n",
      "\t\n",
      "LotFrontage: Linear feet of street connected to property\n",
      "\n",
      "LotArea: Lot size in square feet\n",
      "\n",
      "Street: Type of road access to property\n",
      "\n",
      "       Grvl\tGravel\t\n",
      "       Pave\tPaved\n",
      "       \t\n",
      "Alley: Type of alley access to property\n",
      "\n",
      "       Grvl\tGravel\n",
      "       Pave\tPaved\n",
      "       NA \tNo alley access\n",
      "\t\t\n",
      "LotShape: General shape of property\n",
      "\n",
      "       Reg\tRegular\t\n",
      "       IR1\tSlightly irregular\n",
      "       IR2\tModerately Irregular\n",
      "       IR3\tIrregular\n",
      "       \n",
      "LandContour: Flatness of the property\n",
      "\n",
      "       Lvl\tNear Flat/Level\t\n",
      "       Bnk\tBanked - Quick and significant rise from street grade to building\n",
      "       HLS\tHillside - Significant slope from side to side\n",
      "       Low\tDepression\n",
      "\t\t\n",
      "Utilities: Type of utilities available\n",
      "\t\t\n",
      "       AllPub\tAll public Utilities (E,G,W,& S)\t\n",
      "       NoSewr\tElectricity, Gas, and Water (Septic Tank)\n",
      "       NoSeWa\tElectricity and Gas Only\n",
      "       ELO\tElectricity only\t\n",
      "\t\n",
      "LotConfig: Lot configuration\n",
      "\n",
      "       Inside\tInside lot\n",
      "       Corner\tCorner lot\n",
      "       CulDSac\tCul-de-sac\n",
      "       FR2\tFrontage on 2 sides of property\n",
      "       FR3\tFrontage on 3 sides of property\n",
      "\t\n",
      "LandSlope: Slope of property\n",
      "\t\t\n",
      "       Gtl\tGentle slope\n",
      "       Mod\tModerate Slope\t\n",
      "       Sev\tSevere Slope\n",
      "\t\n",
      "Neighborhood: Physical locations within Ames city limits\n",
      "\n",
      "       Blmngtn\tBloomington Heights\n",
      "       Blueste\tBluestem\n",
      "       BrDale\tBriardale\n",
      "       BrkSide\tBrookside\n",
      "       ClearCr\tClear Creek\n",
      "       CollgCr\tCollege Creek\n",
      "       Crawfor\tCrawford\n",
      "       Edwards\tEdwards\n",
      "       Gilbert\tGilbert\n",
      "       IDOTRR\tIowa DOT and Rail Road\n",
      "       MeadowV\tMeadow Village\n",
      "       Mitchel\tMitchell\n",
      "       Names\tNorth Ames\n",
      "       NoRidge\tNorthridge\n",
      "       NPkVill\tNorthpark Villa\n",
      "       NridgHt\tNorthridge Heights\n",
      "       NWAmes\tNorthwest Ames\n",
      "       OldTown\tOld Town\n",
      "       SWISU\tSouth & West of Iowa State University\n",
      "       Sawyer\tSawyer\n",
      "       SawyerW\tSawyer West\n",
      "       Somerst\tSomerset\n",
      "       StoneBr\tStone Brook\n",
      "       Timber\tTimberland\n",
      "       Veenker\tVeenker\n",
      "\t\t\t\n",
      "Condition1: Proximity to various conditions\n",
      "\t\n",
      "       Artery\tAdjacent to arterial street\n",
      "       Feedr\tAdjacent to feeder street\t\n",
      "       Norm\tNormal\t\n",
      "       RRNn\tWithin 200' of North-South Railroad\n",
      "       RRAn\tAdjacent to North-South Railroad\n",
      "       PosN\tNear positive off-site feature--park, greenbelt, etc.\n",
      "       PosA\tAdjacent to postive off-site feature\n",
      "       RRNe\tWithin 200' of East-West Railroad\n",
      "       RRAe\tAdjacent to East-West Railroad\n",
      "\t\n",
      "Condition2: Proximity to various conditions (if more than one is present)\n",
      "\t\t\n",
      "       Artery\tAdjacent to arterial street\n",
      "       Feedr\tAdjacent to feeder street\t\n",
      "       Norm\tNormal\t\n",
      "       RRNn\tWithin 200' of North-South Railroad\n",
      "       RRAn\tAdjacent to North-South Railroad\n",
      "       PosN\tNear positive off-site feature--park, greenbelt, etc.\n",
      "       PosA\tAdjacent to postive off-site feature\n",
      "       RRNe\tWithin 200' of East-West Railroad\n",
      "       RRAe\tAdjacent to East-West Railroad\n",
      "\t\n",
      "BldgType: Type of dwelling\n",
      "\t\t\n",
      "       1Fam\tSingle-family Detached\t\n",
      "       2FmCon\tTwo-family Conversion; originally built as one-family dwelling\n",
      "       Duplx\tDuplex\n",
      "       TwnhsE\tTownhouse End Unit\n",
      "       TwnhsI\tTownhouse Inside Unit\n",
      "\t\n",
      "HouseStyle: Style of dwelling\n",
      "\t\n",
      "       1Story\tOne story\n",
      "       1.5Fin\tOne and one-half story: 2nd level finished\n",
      "       1.5Unf\tOne and one-half story: 2nd level unfinished\n",
      "       2Story\tTwo story\n",
      "       2.5Fin\tTwo and one-half story: 2nd level finished\n",
      "       2.5Unf\tTwo and one-half story: 2nd level unfinished\n",
      "       SFoyer\tSplit Foyer\n",
      "       SLvl\tSplit Level\n",
      "\t\n",
      "OverallQual: Rates the overall material and finish of the house\n",
      "\n",
      "       10\tVery Excellent\n",
      "       9\tExcellent\n",
      "       8\tVery Good\n",
      "       7\tGood\n",
      "       6\tAbove Average\n",
      "       5\tAverage\n",
      "       4\tBelow Average\n",
      "       3\tFair\n",
      "       2\tPoor\n",
      "       1\tVery Poor\n",
      "\t\n",
      "OverallCond: Rates the overall condition of the house\n",
      "\n",
      "       10\tVery Excellent\n",
      "       9\tExcellent\n",
      "       8\tVery Good\n",
      "       7\tGood\n",
      "       6\tAbove Average\t\n",
      "       5\tAverage\n",
      "       4\tBelow Average\t\n",
      "       3\tFair\n",
      "       2\tPoor\n",
      "       1\tVery Poor\n",
      "\t\t\n",
      "YearBuilt: Original construction date\n",
      "\n",
      "YearRemodAdd: Remodel date (same as construction date if no remodeling or additions)\n",
      "\n",
      "RoofStyle: Type of roof\n",
      "\n",
      "       Flat\tFlat\n",
      "       Gable\tGable\n",
      "       Gambrel\tGabrel (Barn)\n",
      "       Hip\tHip\n",
      "       Mansard\tMansard\n",
      "       Shed\tShed\n",
      "\t\t\n",
      "RoofMatl: Roof material\n",
      "\n",
      "       ClyTile\tClay or Tile\n",
      "       CompShg\tStandard (Composite) Shingle\n",
      "       Membran\tMembrane\n",
      "       Metal\tMetal\n",
      "       Roll\tRoll\n",
      "       Tar&Grv\tGravel & Tar\n",
      "       WdShake\tWood Shakes\n",
      "       WdShngl\tWood Shingles\n",
      "\t\t\n",
      "Exterior1st: Exterior covering on house\n",
      "\n",
      "       AsbShng\tAsbestos Shingles\n",
      "       AsphShn\tAsphalt Shingles\n",
      "       BrkComm\tBrick Common\n",
      "       BrkFace\tBrick Face\n",
      "       CBlock\tCinder Block\n",
      "       CemntBd\tCement Board\n",
      "       HdBoard\tHard Board\n",
      "       ImStucc\tImitation Stucco\n",
      "       MetalSd\tMetal Siding\n",
      "       Other\tOther\n",
      "       Plywood\tPlywood\n",
      "       PreCast\tPreCast\t\n",
      "       Stone\tStone\n",
      "       Stucco\tStucco\n",
      "       VinylSd\tVinyl Siding\n",
      "       Wd Sdng\tWood Siding\n",
      "       WdShing\tWood Shingles\n",
      "\t\n",
      "Exterior2nd: Exterior covering on house (if more than one material)\n",
      "\n",
      "       AsbShng\tAsbestos Shingles\n",
      "       AsphShn\tAsphalt Shingles\n",
      "       BrkComm\tBrick Common\n",
      "       BrkFace\tBrick Face\n",
      "       CBlock\tCinder Block\n",
      "       CemntBd\tCement Board\n",
      "       HdBoard\tHard Board\n",
      "       ImStucc\tImitation Stucco\n",
      "       MetalSd\tMetal Siding\n",
      "       Other\tOther\n",
      "       Plywood\tPlywood\n",
      "       PreCast\tPreCast\n",
      "       Stone\tStone\n",
      "       Stucco\tStucco\n",
      "       VinylSd\tVinyl Siding\n",
      "       Wd Sdng\tWood Siding\n",
      "       WdShing\tWood Shingles\n",
      "\t\n",
      "MasVnrType: Masonry veneer type\n",
      "\n",
      "       BrkCmn\tBrick Common\n",
      "       BrkFace\tBrick Face\n",
      "       CBlock\tCinder Block\n",
      "       None\tNone\n",
      "       Stone\tStone\n",
      "\t\n",
      "MasVnrArea: Masonry veneer area in square feet\n",
      "\n",
      "ExterQual: Evaluates the quality of the material on the exterior \n",
      "\t\t\n",
      "       Ex\tExcellent\n",
      "       Gd\tGood\n",
      "       TA\tAverage/Typical\n",
      "       Fa\tFair\n",
      "       Po\tPoor\n",
      "\t\t\n",
      "ExterCond: Evaluates the present condition of the material on the exterior\n",
      "\t\t\n",
      "       Ex\tExcellent\n",
      "       Gd\tGood\n",
      "       TA\tAverage/Typical\n",
      "       Fa\tFair\n",
      "       Po\tPoor\n",
      "\t\t\n",
      "Foundation: Type of foundation\n",
      "\t\t\n",
      "       BrkTil\tBrick & Tile\n",
      "       CBlock\tCinder Block\n",
      "       PConc\tPoured Contrete\t\n",
      "       Slab\tSlab\n",
      "       Stone\tStone\n",
      "       Wood\tWood\n",
      "\t\t\n",
      "BsmtQual: Evaluates the height of the basement\n",
      "\n",
      "       Ex\tExcellent (100+ inches)\t\n",
      "       Gd\tGood (90-99 inches)\n",
      "       TA\tTypical (80-89 inches)\n",
      "       Fa\tFair (70-79 inches)\n",
      "       Po\tPoor (<70 inches\n",
      "       NA\tNo Basement\n",
      "\t\t\n",
      "BsmtCond: Evaluates the general condition of the basement\n",
      "\n",
      "       Ex\tExcellent\n",
      "       Gd\tGood\n",
      "       TA\tTypical - slight dampness allowed\n",
      "       Fa\tFair - dampness or some cracking or settling\n",
      "       Po\tPoor - Severe cracking, settling, or wetness\n",
      "       NA\tNo Basement\n",
      "\t\n",
      "BsmtExposure: Refers to walkout or garden level walls\n",
      "\n",
      "       Gd\tGood Exposure\n",
      "       Av\tAverage Exposure (split levels or foyers typically score average or above)\t\n",
      "       Mn\tMimimum Exposure\n",
      "       No\tNo Exposure\n",
      "       NA\tNo Basement\n",
      "\t\n",
      "BsmtFinType1: Rating of basement finished area\n",
      "\n",
      "       GLQ\tGood Living Quarters\n",
      "       ALQ\tAverage Living Quarters\n",
      "       BLQ\tBelow Average Living Quarters\t\n",
      "       Rec\tAverage Rec Room\n",
      "       LwQ\tLow Quality\n",
      "       Unf\tUnfinshed\n",
      "       NA\tNo Basement\n",
      "\t\t\n",
      "BsmtFinSF1: Type 1 finished square feet\n",
      "\n",
      "BsmtFinType2: Rating of basement finished area (if multiple types)\n",
      "\n",
      "       GLQ\tGood Living Quarters\n",
      "       ALQ\tAverage Living Quarters\n",
      "       BLQ\tBelow Average Living Quarters\t\n",
      "       Rec\tAverage Rec Room\n",
      "       LwQ\tLow Quality\n",
      "       Unf\tUnfinshed\n",
      "       NA\tNo Basement\n",
      "\n",
      "BsmtFinSF2: Type 2 finished square feet\n",
      "\n",
      "BsmtUnfSF: Unfinished square feet of basement area\n",
      "\n",
      "TotalBsmtSF: Total square feet of basement area\n",
      "\n",
      "Heating: Type of heating\n",
      "\t\t\n",
      "       Floor\tFloor Furnace\n",
      "       GasA\tGas forced warm air furnace\n",
      "       GasW\tGas hot water or steam heat\n",
      "       Grav\tGravity furnace\t\n",
      "       OthW\tHot water or steam heat other than gas\n",
      "       Wall\tWall furnace\n",
      "\t\t\n",
      "HeatingQC: Heating quality and condition\n",
      "\n",
      "       Ex\tExcellent\n",
      "       Gd\tGood\n",
      "       TA\tAverage/Typical\n",
      "       Fa\tFair\n",
      "       Po\tPoor\n",
      "\t\t\n",
      "CentralAir: Central air conditioning\n",
      "\n",
      "       N\tNo\n",
      "       Y\tYes\n",
      "\t\t\n",
      "Electrical: Electrical system\n",
      "\n",
      "       SBrkr\tStandard Circuit Breakers & Romex\n",
      "       FuseA\tFuse Box over 60 AMP and all Romex wiring (Average)\t\n",
      "       FuseF\t60 AMP Fuse Box and mostly Romex wiring (Fair)\n",
      "       FuseP\t60 AMP Fuse Box and mostly knob & tube wiring (poor)\n",
      "       Mix\tMixed\n",
      "\t\t\n",
      "1stFlrSF: First Floor square feet\n",
      " \n",
      "2ndFlrSF: Second floor square feet\n",
      "\n",
      "LowQualFinSF: Low quality finished square feet (all floors)\n",
      "\n",
      "GrLivArea: Above grade (ground) living area square feet\n",
      "\n",
      "BsmtFullBath: Basement full bathrooms\n",
      "\n",
      "BsmtHalfBath: Basement half bathrooms\n",
      "\n",
      "FullBath: Full bathrooms above grade\n",
      "\n",
      "HalfBath: Half baths above grade\n",
      "\n",
      "Bedroom: Bedrooms above grade (does NOT include basement bedrooms)\n",
      "\n",
      "Kitchen: Kitchens above grade\n",
      "\n",
      "KitchenQual: Kitchen quality\n",
      "\n",
      "       Ex\tExcellent\n",
      "       Gd\tGood\n",
      "       TA\tTypical/Average\n",
      "       Fa\tFair\n",
      "       Po\tPoor\n",
      "       \t\n",
      "TotRmsAbvGrd: Total rooms above grade (does not include bathrooms)\n",
      "\n",
      "Functional: Home functionality (Assume typical unless deductions are warranted)\n",
      "\n",
      "       Typ\tTypical Functionality\n",
      "       Min1\tMinor Deductions 1\n",
      "       Min2\tMinor Deductions 2\n",
      "       Mod\tModerate Deductions\n",
      "       Maj1\tMajor Deductions 1\n",
      "       Maj2\tMajor Deductions 2\n",
      "       Sev\tSeverely Damaged\n",
      "       Sal\tSalvage only\n",
      "\t\t\n",
      "Fireplaces: Number of fireplaces\n",
      "\n",
      "FireplaceQu: Fireplace quality\n",
      "\n",
      "       Ex\tExcellent - Exceptional Masonry Fireplace\n",
      "       Gd\tGood - Masonry Fireplace in main level\n",
      "       TA\tAverage - Prefabricated Fireplace in main living area or Masonry Fireplace in basement\n",
      "       Fa\tFair - Prefabricated Fireplace in basement\n",
      "       Po\tPoor - Ben Franklin Stove\n",
      "       NA\tNo Fireplace\n",
      "\t\t\n",
      "GarageType: Garage location\n",
      "\t\t\n",
      "       2Types\tMore than one type of garage\n",
      "       Attchd\tAttached to home\n",
      "       Basment\tBasement Garage\n",
      "       BuiltIn\tBuilt-In (Garage part of house - typically has room above garage)\n",
      "       CarPort\tCar Port\n",
      "       Detchd\tDetached from home\n",
      "       NA\tNo Garage\n",
      "\t\t\n",
      "GarageYrBlt: Year garage was built\n",
      "\t\t\n",
      "GarageFinish: Interior finish of the garage\n",
      "\n",
      "       Fin\tFinished\n",
      "       RFn\tRough Finished\t\n",
      "       Unf\tUnfinished\n",
      "       NA\tNo Garage\n",
      "\t\t\n",
      "GarageCars: Size of garage in car capacity\n",
      "\n",
      "GarageArea: Size of garage in square feet\n",
      "\n",
      "GarageQual: Garage quality\n",
      "\n",
      "       Ex\tExcellent\n",
      "       Gd\tGood\n",
      "       TA\tTypical/Average\n",
      "       Fa\tFair\n",
      "       Po\tPoor\n",
      "       NA\tNo Garage\n",
      "\t\t\n",
      "GarageCond: Garage condition\n",
      "\n",
      "       Ex\tExcellent\n",
      "       Gd\tGood\n",
      "       TA\tTypical/Average\n",
      "       Fa\tFair\n",
      "       Po\tPoor\n",
      "       NA\tNo Garage\n",
      "\t\t\n",
      "PavedDrive: Paved driveway\n",
      "\n",
      "       Y\tPaved \n",
      "       P\tPartial Pavement\n",
      "       N\tDirt/Gravel\n",
      "\t\t\n",
      "WoodDeckSF: Wood deck area in square feet\n",
      "\n",
      "OpenPorchSF: Open porch area in square feet\n",
      "\n",
      "EnclosedPorch: Enclosed porch area in square feet\n",
      "\n",
      "3SsnPorch: Three season porch area in square feet\n",
      "\n",
      "ScreenPorch: Screen porch area in square feet\n",
      "\n",
      "PoolArea: Pool area in square feet\n",
      "\n",
      "PoolQC: Pool quality\n",
      "\t\t\n",
      "       Ex\tExcellent\n",
      "       Gd\tGood\n",
      "       TA\tAverage/Typical\n",
      "       Fa\tFair\n",
      "       NA\tNo Pool\n",
      "\t\t\n",
      "Fence: Fence quality\n",
      "\t\t\n",
      "       GdPrv\tGood Privacy\n",
      "       MnPrv\tMinimum Privacy\n",
      "       GdWo\tGood Wood\n",
      "       MnWw\tMinimum Wood/Wire\n",
      "       NA\tNo Fence\n",
      "\t\n",
      "MiscFeature: Miscellaneous feature not covered in other categories\n",
      "\t\t\n",
      "       Elev\tElevator\n",
      "       Gar2\t2nd Garage (if not described in garage section)\n",
      "       Othr\tOther\n",
      "       Shed\tShed (over 100 SF)\n",
      "       TenC\tTennis Court\n",
      "       NA\tNone\n",
      "\t\t\n",
      "MiscVal: $Value of miscellaneous feature\n",
      "\n",
      "MoSold: Month Sold (MM)\n",
      "\n",
      "YrSold: Year Sold (YYYY)\n",
      "\n",
      "SaleType: Type of sale\n",
      "\t\t\n",
      "       WD \tWarranty Deed - Conventional\n",
      "       CWD\tWarranty Deed - Cash\n",
      "       VWD\tWarranty Deed - VA Loan\n",
      "       New\tHome just constructed and sold\n",
      "       COD\tCourt Officer Deed/Estate\n",
      "       Con\tContract 15% Down payment regular terms\n",
      "       ConLw\tContract Low Down payment and low interest\n",
      "       ConLI\tContract Low Interest\n",
      "       ConLD\tContract Low Down\n",
      "       Oth\tOther\n",
      "\t\t\n",
      "SaleCondition: Condition of sale\n",
      "\n",
      "       Normal\tNormal Sale\n",
      "       Abnorml\tAbnormal Sale -  trade, foreclosure, short sale\n",
      "       AdjLand\tAdjoining Land Purchase\n",
      "       Alloca\tAllocation - two linked properties with separate deeds, typically condo with a garage unit\t\n",
      "       Family\tSale between family members\n",
      "       Partial\tHome was not completed when last assessed (associated with New Homes)\n",
      "\n"
     ]
    }
   ],
   "source": [
    "with open('ames_data/data_description.txt','r') as f:\n",
    "    print(f.read())"
   ]
  },
  {
   "cell_type": "code",
   "execution_count": 5,
   "id": "7f44a6fc",
   "metadata": {},
   "outputs": [
    {
     "data": {
      "text/plain": [
       "81"
      ]
     },
     "execution_count": 5,
     "metadata": {},
     "output_type": "execute_result"
    }
   ],
   "source": [
    "#get number of columns in the train dataset\n",
    "len(train.columns)"
   ]
  },
  {
   "cell_type": "code",
   "execution_count": 6,
   "id": "e403f67e",
   "metadata": {},
   "outputs": [
    {
     "data": {
      "text/plain": [
       "80"
      ]
     },
     "execution_count": 6,
     "metadata": {},
     "output_type": "execute_result"
    }
   ],
   "source": [
    "#get number of columns in the test dataset. It is missing the \"SalePrice\" column \n",
    "#as it was part of an ongoing kaggle competition\n",
    "len(test.columns)"
   ]
  },
  {
   "cell_type": "code",
   "execution_count": 7,
   "id": "0ff74d78",
   "metadata": {},
   "outputs": [
    {
     "data": {
      "text/html": [
       "<div>\n",
       "<style scoped>\n",
       "    .dataframe tbody tr th:only-of-type {\n",
       "        vertical-align: middle;\n",
       "    }\n",
       "\n",
       "    .dataframe tbody tr th {\n",
       "        vertical-align: top;\n",
       "    }\n",
       "\n",
       "    .dataframe thead th {\n",
       "        text-align: right;\n",
       "    }\n",
       "</style>\n",
       "<table border=\"1\" class=\"dataframe\">\n",
       "  <thead>\n",
       "    <tr style=\"text-align: right;\">\n",
       "      <th></th>\n",
       "      <th>Id</th>\n",
       "      <th>MSSubClass</th>\n",
       "      <th>MSZoning</th>\n",
       "      <th>LotFrontage</th>\n",
       "      <th>LotArea</th>\n",
       "      <th>Street</th>\n",
       "      <th>Alley</th>\n",
       "      <th>LotShape</th>\n",
       "      <th>LandContour</th>\n",
       "      <th>Utilities</th>\n",
       "      <th>...</th>\n",
       "      <th>PoolArea</th>\n",
       "      <th>PoolQC</th>\n",
       "      <th>Fence</th>\n",
       "      <th>MiscFeature</th>\n",
       "      <th>MiscVal</th>\n",
       "      <th>MoSold</th>\n",
       "      <th>YrSold</th>\n",
       "      <th>SaleType</th>\n",
       "      <th>SaleCondition</th>\n",
       "      <th>SalePrice</th>\n",
       "    </tr>\n",
       "  </thead>\n",
       "  <tbody>\n",
       "    <tr>\n",
       "      <th>0</th>\n",
       "      <td>1</td>\n",
       "      <td>60</td>\n",
       "      <td>RL</td>\n",
       "      <td>65.0</td>\n",
       "      <td>8450</td>\n",
       "      <td>Pave</td>\n",
       "      <td>NaN</td>\n",
       "      <td>Reg</td>\n",
       "      <td>Lvl</td>\n",
       "      <td>AllPub</td>\n",
       "      <td>...</td>\n",
       "      <td>0</td>\n",
       "      <td>NaN</td>\n",
       "      <td>NaN</td>\n",
       "      <td>NaN</td>\n",
       "      <td>0</td>\n",
       "      <td>2</td>\n",
       "      <td>2008</td>\n",
       "      <td>WD</td>\n",
       "      <td>Normal</td>\n",
       "      <td>208500</td>\n",
       "    </tr>\n",
       "    <tr>\n",
       "      <th>1</th>\n",
       "      <td>2</td>\n",
       "      <td>20</td>\n",
       "      <td>RL</td>\n",
       "      <td>80.0</td>\n",
       "      <td>9600</td>\n",
       "      <td>Pave</td>\n",
       "      <td>NaN</td>\n",
       "      <td>Reg</td>\n",
       "      <td>Lvl</td>\n",
       "      <td>AllPub</td>\n",
       "      <td>...</td>\n",
       "      <td>0</td>\n",
       "      <td>NaN</td>\n",
       "      <td>NaN</td>\n",
       "      <td>NaN</td>\n",
       "      <td>0</td>\n",
       "      <td>5</td>\n",
       "      <td>2007</td>\n",
       "      <td>WD</td>\n",
       "      <td>Normal</td>\n",
       "      <td>181500</td>\n",
       "    </tr>\n",
       "    <tr>\n",
       "      <th>2</th>\n",
       "      <td>3</td>\n",
       "      <td>60</td>\n",
       "      <td>RL</td>\n",
       "      <td>68.0</td>\n",
       "      <td>11250</td>\n",
       "      <td>Pave</td>\n",
       "      <td>NaN</td>\n",
       "      <td>IR1</td>\n",
       "      <td>Lvl</td>\n",
       "      <td>AllPub</td>\n",
       "      <td>...</td>\n",
       "      <td>0</td>\n",
       "      <td>NaN</td>\n",
       "      <td>NaN</td>\n",
       "      <td>NaN</td>\n",
       "      <td>0</td>\n",
       "      <td>9</td>\n",
       "      <td>2008</td>\n",
       "      <td>WD</td>\n",
       "      <td>Normal</td>\n",
       "      <td>223500</td>\n",
       "    </tr>\n",
       "    <tr>\n",
       "      <th>3</th>\n",
       "      <td>4</td>\n",
       "      <td>70</td>\n",
       "      <td>RL</td>\n",
       "      <td>60.0</td>\n",
       "      <td>9550</td>\n",
       "      <td>Pave</td>\n",
       "      <td>NaN</td>\n",
       "      <td>IR1</td>\n",
       "      <td>Lvl</td>\n",
       "      <td>AllPub</td>\n",
       "      <td>...</td>\n",
       "      <td>0</td>\n",
       "      <td>NaN</td>\n",
       "      <td>NaN</td>\n",
       "      <td>NaN</td>\n",
       "      <td>0</td>\n",
       "      <td>2</td>\n",
       "      <td>2006</td>\n",
       "      <td>WD</td>\n",
       "      <td>Abnorml</td>\n",
       "      <td>140000</td>\n",
       "    </tr>\n",
       "    <tr>\n",
       "      <th>4</th>\n",
       "      <td>5</td>\n",
       "      <td>60</td>\n",
       "      <td>RL</td>\n",
       "      <td>84.0</td>\n",
       "      <td>14260</td>\n",
       "      <td>Pave</td>\n",
       "      <td>NaN</td>\n",
       "      <td>IR1</td>\n",
       "      <td>Lvl</td>\n",
       "      <td>AllPub</td>\n",
       "      <td>...</td>\n",
       "      <td>0</td>\n",
       "      <td>NaN</td>\n",
       "      <td>NaN</td>\n",
       "      <td>NaN</td>\n",
       "      <td>0</td>\n",
       "      <td>12</td>\n",
       "      <td>2008</td>\n",
       "      <td>WD</td>\n",
       "      <td>Normal</td>\n",
       "      <td>250000</td>\n",
       "    </tr>\n",
       "  </tbody>\n",
       "</table>\n",
       "<p>5 rows × 81 columns</p>\n",
       "</div>"
      ],
      "text/plain": [
       "   Id  MSSubClass MSZoning  LotFrontage  LotArea Street Alley LotShape  \\\n",
       "0   1          60       RL         65.0     8450   Pave   NaN      Reg   \n",
       "1   2          20       RL         80.0     9600   Pave   NaN      Reg   \n",
       "2   3          60       RL         68.0    11250   Pave   NaN      IR1   \n",
       "3   4          70       RL         60.0     9550   Pave   NaN      IR1   \n",
       "4   5          60       RL         84.0    14260   Pave   NaN      IR1   \n",
       "\n",
       "  LandContour Utilities  ... PoolArea PoolQC Fence MiscFeature MiscVal MoSold  \\\n",
       "0         Lvl    AllPub  ...        0    NaN   NaN         NaN       0      2   \n",
       "1         Lvl    AllPub  ...        0    NaN   NaN         NaN       0      5   \n",
       "2         Lvl    AllPub  ...        0    NaN   NaN         NaN       0      9   \n",
       "3         Lvl    AllPub  ...        0    NaN   NaN         NaN       0      2   \n",
       "4         Lvl    AllPub  ...        0    NaN   NaN         NaN       0     12   \n",
       "\n",
       "  YrSold  SaleType  SaleCondition  SalePrice  \n",
       "0   2008        WD         Normal     208500  \n",
       "1   2007        WD         Normal     181500  \n",
       "2   2008        WD         Normal     223500  \n",
       "3   2006        WD        Abnorml     140000  \n",
       "4   2008        WD         Normal     250000  \n",
       "\n",
       "[5 rows x 81 columns]"
      ]
     },
     "execution_count": 7,
     "metadata": {},
     "output_type": "execute_result"
    }
   ],
   "source": [
    "train.head()"
   ]
  },
  {
   "cell_type": "markdown",
   "id": "b9f32e00",
   "metadata": {},
   "source": [
    "**Get correlation of numeric variables with the SalePrice as we are trying to predict the SalePrice. Remove variables(features) with less than 0.25 correlation with the SalePrice**"
   ]
  },
  {
   "cell_type": "code",
   "execution_count": 8,
   "id": "5935b2aa",
   "metadata": {},
   "outputs": [
    {
     "data": {
      "text/plain": [
       "KitchenAbvGr    -0.135907\n",
       "EnclosedPorch   -0.128578\n",
       "MSSubClass      -0.084284\n",
       "OverallCond     -0.077856\n",
       "YrSold          -0.028923\n",
       "LowQualFinSF    -0.025606\n",
       "Id              -0.021917\n",
       "MiscVal         -0.021190\n",
       "BsmtHalfBath    -0.016844\n",
       "BsmtFinSF2      -0.011378\n",
       "3SsnPorch        0.044584\n",
       "MoSold           0.046432\n",
       "PoolArea         0.092404\n",
       "ScreenPorch      0.111447\n",
       "BedroomAbvGr     0.168213\n",
       "BsmtUnfSF        0.214479\n",
       "BsmtFullBath     0.227122\n",
       "LotArea          0.263843\n",
       "HalfBath         0.284108\n",
       "OpenPorchSF      0.315856\n",
       "2ndFlrSF         0.319334\n",
       "WoodDeckSF       0.324413\n",
       "LotFrontage      0.351799\n",
       "BsmtFinSF1       0.386420\n",
       "Fireplaces       0.466929\n",
       "MasVnrArea       0.477493\n",
       "GarageYrBlt      0.486362\n",
       "YearRemodAdd     0.507101\n",
       "YearBuilt        0.522897\n",
       "TotRmsAbvGrd     0.533723\n",
       "FullBath         0.560664\n",
       "1stFlrSF         0.605852\n",
       "TotalBsmtSF      0.613581\n",
       "GarageArea       0.623431\n",
       "GarageCars       0.640409\n",
       "GrLivArea        0.708624\n",
       "OverallQual      0.790982\n",
       "SalePrice        1.000000\n",
       "Name: SalePrice, dtype: float64"
      ]
     },
     "execution_count": 8,
     "metadata": {},
     "output_type": "execute_result"
    }
   ],
   "source": [
    "train.corr()['SalePrice'].sort_values()"
   ]
  },
  {
   "cell_type": "code",
   "execution_count": 9,
   "id": "000cdec4",
   "metadata": {},
   "outputs": [],
   "source": [
    "#get index of features(columns) with less than 0.25 correlation with the SalePrice.\n",
    "#save it in a variable\n",
    "column_drop = train.corr()['SalePrice'][abs(train.corr()['SalePrice'])<0.25].index"
   ]
  },
  {
   "cell_type": "code",
   "execution_count": 10,
   "id": "6cc4a0d5",
   "metadata": {},
   "outputs": [],
   "source": [
    "#Drop features(columns) with less than 0.25 correlation with the SalePrice in the\n",
    "#train dataset\n",
    "train = train.drop([column for column in column_drop],axis=1)"
   ]
  },
  {
   "cell_type": "code",
   "execution_count": 11,
   "id": "a4aaf0b0",
   "metadata": {},
   "outputs": [],
   "source": [
    "#Save the id from the test dataset as we will need it for the final submission of the\n",
    "#SalePrice prediction\n",
    "test_id = test[\"Id\"]"
   ]
  },
  {
   "cell_type": "code",
   "execution_count": 12,
   "id": "21cd682f",
   "metadata": {},
   "outputs": [],
   "source": [
    "#Drop features(columns) with less than 0.25 correlation with the SalePrice in the\n",
    "#test dataset\n",
    "test = test.drop([column for column in column_drop],axis=1)"
   ]
  },
  {
   "cell_type": "markdown",
   "id": "e5205338",
   "metadata": {},
   "source": [
    "**Remove basement categorical variables(features) that are not related square footage as numerical basement variables not related to squarefootage had low correlation to SalePrice**"
   ]
  },
  {
   "cell_type": "code",
   "execution_count": 13,
   "id": "950aa7d6",
   "metadata": {},
   "outputs": [],
   "source": [
    "#drop basement categorical variables(features) that are not related square footage in train\n",
    "bsmt_str_cols = ['BsmtFinType1','BsmtFinType2','BsmtExposure']\n",
    "train = train.drop(bsmt_str_cols,axis=1)"
   ]
  },
  {
   "cell_type": "code",
   "execution_count": 14,
   "id": "c62dad28",
   "metadata": {},
   "outputs": [],
   "source": [
    "#drop basement categorical variables(features) that are not related square footage in test\n",
    "test = test.drop(bsmt_str_cols,axis=1)"
   ]
  },
  {
   "cell_type": "markdown",
   "id": "ed23aaad",
   "metadata": {},
   "source": [
    "**Make scatterplot to remove outliers in the training dataset**"
   ]
  },
  {
   "cell_type": "code",
   "execution_count": 15,
   "id": "55bea68c",
   "metadata": {},
   "outputs": [
    {
     "data": {
      "text/plain": [
       "<AxesSubplot:title={'center':'Sale Price vs Overall Quality'}, xlabel='OverallQual', ylabel='SalePrice'>"
      ]
     },
     "execution_count": 15,
     "metadata": {},
     "output_type": "execute_result"
    },
    {
     "data": {
      "image/png": "[encoded data removed]",
      "text/plain": [
       "<Figure size 432x288 with 1 Axes>"
      ]
     },
     "metadata": {
      "needs_background": "light"
     },
     "output_type": "display_data"
    }
   ],
   "source": [
    "#make a scatterplot with overall quality and sale price\n",
    "plt.title('Sale Price vs Overall Quality')\n",
    "sns.scatterplot(x='OverallQual',y='SalePrice',data=train)"
   ]
  },
  {
   "cell_type": "code",
   "execution_count": 16,
   "id": "fdd9a71c",
   "metadata": {},
   "outputs": [
    {
     "data": {
      "text/plain": [
       "<AxesSubplot:title={'center':'Sale Price vs Greater Living Area'}, xlabel='GrLivArea', ylabel='SalePrice'>"
      ]
     },
     "execution_count": 16,
     "metadata": {},
     "output_type": "execute_result"
    },
    {
     "data": {
      "image/png": "[encoded data removed]",
      "text/plain": [
       "<Figure size 432x288 with 1 Axes>"
      ]
     },
     "metadata": {
      "needs_background": "light"
     },
     "output_type": "display_data"
    }
   ],
   "source": [
    "#make a scatterplot with overall quality and sale price\n",
    "plt.title('Sale Price vs Greater Living Area')\n",
    "sns.scatterplot(x='GrLivArea',y='SalePrice',data=train)"
   ]
  },
  {
   "cell_type": "code",
   "execution_count": 17,
   "id": "ed89f97d",
   "metadata": {},
   "outputs": [
    {
     "data": {
      "text/plain": [
       "Int64Index([523, 963, 1298], dtype='int64')"
      ]
     },
     "execution_count": 17,
     "metadata": {},
     "output_type": "execute_result"
    }
   ],
   "source": [
    "#get index of outlier points on OverallQual\n",
    "train[(train['OverallQual']>8)&(train['SalePrice']<250000)].index"
   ]
  },
  {
   "cell_type": "code",
   "execution_count": 18,
   "id": "c68d3f56",
   "metadata": {},
   "outputs": [
    {
     "data": {
      "text/plain": [
       "Int64Index([523, 1298], dtype='int64')"
      ]
     },
     "execution_count": 18,
     "metadata": {},
     "output_type": "execute_result"
    }
   ],
   "source": [
    "#get index of outlier points on GrLivArea\n",
    "train[(train['GrLivArea']>4000)&(train['SalePrice']<300000)].index"
   ]
  },
  {
   "cell_type": "code",
   "execution_count": 19,
   "id": "ba419ddb",
   "metadata": {},
   "outputs": [],
   "source": [
    "#save index of outlier points of OverallQual into variable\n",
    "exclude_ind = train[(train['OverallQual']>8)&(train['SalePrice']<250000)].index"
   ]
  },
  {
   "cell_type": "code",
   "execution_count": 20,
   "id": "ea0e0a76",
   "metadata": {},
   "outputs": [],
   "source": [
    "#remove index of outlier points of OverallQual from train data\n",
    "train = train.drop(exclude_ind, axis = 0)"
   ]
  },
  {
   "cell_type": "markdown",
   "id": "76016365",
   "metadata": {},
   "source": [
    "**Get percentage of null values within each column to choose additional columns to drop**"
   ]
  },
  {
   "cell_type": "code",
   "execution_count": 21,
   "id": "b815bc4e",
   "metadata": {},
   "outputs": [],
   "source": [
    "#make function to determine columns where percentage of null values is higher than 0\n",
    "def percent_missing(df):\n",
    "    percent_missing = 100*df.isnull().sum()/len(df)\n",
    "    percent_missing = percent_missing[percent_missing>0].sort_values()\n",
    "    return percent_missing"
   ]
  },
  {
   "cell_type": "code",
   "execution_count": 22,
   "id": "0e92cb5c",
   "metadata": {},
   "outputs": [],
   "source": [
    "#put data through function and save in variable\n",
    "percent_missing = percent_missing(train)"
   ]
  },
  {
   "cell_type": "code",
   "execution_count": 23,
   "id": "352434da",
   "metadata": {},
   "outputs": [
    {
     "data": {
      "image/png": "[encoded data removed]",
      "text/plain": [
       "<Figure size 432x288 with 1 Axes>"
      ]
     },
     "metadata": {
      "needs_background": "light"
     },
     "output_type": "display_data"
    }
   ],
   "source": [
    "#show columns where percentage of null values is higher than 0\n",
    "sns.barplot(x=percent_missing.index,y =percent_missing)\n",
    "plt.xticks(rotation=90)\n",
    "plt.title('Percentage of Missing Data')\n",
    "plt.show()\n"
   ]
  },
  {
   "cell_type": "code",
   "execution_count": 24,
   "id": "254c5617",
   "metadata": {},
   "outputs": [],
   "source": [
    "#drop 'PoolQC', 'MiscFeature','Alley','Fence' from train data as percentage of null values is higher than 80\n",
    "train = train.drop(['PoolQC', 'MiscFeature','Alley','Fence'], axis=1)"
   ]
  },
  {
   "cell_type": "code",
   "execution_count": 25,
   "id": "f5c31014",
   "metadata": {},
   "outputs": [],
   "source": [
    "#drop 'PoolQC', 'MiscFeature','Alley','Fence' from test data as percentage of null values is higher than 80\n",
    "test = test.drop(['PoolQC', 'MiscFeature','Alley','Fence'], axis=1)"
   ]
  },
  {
   "cell_type": "markdown",
   "id": "3d6b9254",
   "metadata": {},
   "source": [
    "**Drop categorical columns 'MasVnrType' (Masonry veneer type) ,'MasVnrArea' (Masonry veneer area sq feet' as they hold little importance in home buying factors.**"
   ]
  },
  {
   "cell_type": "code",
   "execution_count": 26,
   "id": "059be13a",
   "metadata": {},
   "outputs": [],
   "source": [
    "#drop 'MasVnrType','MasVnrArea' from train data\n",
    "train = train.drop(['MasVnrType','MasVnrArea'],axis=1)"
   ]
  },
  {
   "cell_type": "code",
   "execution_count": 27,
   "id": "fd481998",
   "metadata": {},
   "outputs": [],
   "source": [
    "#drop 'MasVnrType','MasVnrArea' from test data\n",
    "test = test.drop(['MasVnrType','MasVnrArea'], axis=1)"
   ]
  },
  {
   "cell_type": "code",
   "execution_count": 28,
   "id": "c86e909f",
   "metadata": {},
   "outputs": [],
   "source": [
    "train[['BsmtQual','BsmtCond','Electrical']] = train[['BsmtQual','BsmtCond','Electrical']].fillna('None')"
   ]
  },
  {
   "cell_type": "code",
   "execution_count": 29,
   "id": "d69c8186",
   "metadata": {},
   "outputs": [],
   "source": [
    "test[['BsmtQual','BsmtCond','Electrical']] = test[['BsmtQual','BsmtCond','Electrical']].fillna('None')"
   ]
  },
  {
   "cell_type": "markdown",
   "id": "f6629f11",
   "metadata": {},
   "source": [
    "**Impute values into rows where there are missing values in the train dataset**"
   ]
  },
  {
   "cell_type": "code",
   "execution_count": 30,
   "id": "cfe164c8",
   "metadata": {},
   "outputs": [],
   "source": [
    "gar_str_cols = [\"GarageType\", \"GarageFinish\", \"GarageQual\", \"GarageCond\"]"
   ]
  },
  {
   "cell_type": "code",
   "execution_count": 31,
   "id": "ddf60bc4",
   "metadata": {},
   "outputs": [
    {
     "data": {
      "text/plain": [
       "GarageType      81\n",
       "GarageFinish    81\n",
       "GarageQual      81\n",
       "GarageCond      81\n",
       "dtype: int64"
      ]
     },
     "execution_count": 31,
     "metadata": {},
     "output_type": "execute_result"
    }
   ],
   "source": [
    "train[gar_str_cols].isnull().sum()"
   ]
  },
  {
   "cell_type": "code",
   "execution_count": 32,
   "id": "c5b7e2b8",
   "metadata": {},
   "outputs": [],
   "source": [
    "train[gar_str_cols] = train[gar_str_cols].fillna('None')"
   ]
  },
  {
   "cell_type": "code",
   "execution_count": 33,
   "id": "9d130f8f",
   "metadata": {},
   "outputs": [],
   "source": [
    "test[gar_str_cols] = test[gar_str_cols].fillna('None')"
   ]
  },
  {
   "cell_type": "code",
   "execution_count": 34,
   "id": "1f13b0b9",
   "metadata": {},
   "outputs": [],
   "source": [
    "train['GarageYrBlt'] = train['GarageYrBlt'].fillna(0)"
   ]
  },
  {
   "cell_type": "code",
   "execution_count": 35,
   "id": "c8391b23",
   "metadata": {},
   "outputs": [],
   "source": [
    "test['GarageYrBlt'] = test['GarageYrBlt'].fillna(0)"
   ]
  },
  {
   "cell_type": "code",
   "execution_count": 36,
   "id": "b123b89b",
   "metadata": {},
   "outputs": [
    {
     "data": {
      "text/plain": [
       "LotFrontage    17.776253\n",
       "FireplaceQu    47.288950\n",
       "dtype: float64"
      ]
     },
     "execution_count": 36,
     "metadata": {},
     "output_type": "execute_result"
    }
   ],
   "source": [
    "percent_missing = 100*train.isnull().sum()/len(train)\n",
    "percent_missing = percent_missing[percent_missing>0].sort_values()\n",
    "percent_missing"
   ]
  },
  {
   "cell_type": "code",
   "execution_count": 37,
   "id": "0d68f3bd",
   "metadata": {},
   "outputs": [],
   "source": [
    "train['FireplaceQu'] = train['FireplaceQu'].fillna('None')"
   ]
  },
  {
   "cell_type": "code",
   "execution_count": 38,
   "id": "d8921e73",
   "metadata": {},
   "outputs": [],
   "source": [
    "test['FireplaceQu'] = test['FireplaceQu'].fillna('None')"
   ]
  },
  {
   "cell_type": "code",
   "execution_count": 39,
   "id": "4afed07d",
   "metadata": {},
   "outputs": [
    {
     "data": {
      "text/plain": [
       "0       65.0\n",
       "1       80.0\n",
       "2       68.0\n",
       "3       60.0\n",
       "4       84.0\n",
       "        ... \n",
       "1455    62.0\n",
       "1456    85.0\n",
       "1457    66.0\n",
       "1458    68.0\n",
       "1459    75.0\n",
       "Name: LotFrontage, Length: 1457, dtype: float64"
      ]
     },
     "execution_count": 39,
     "metadata": {},
     "output_type": "execute_result"
    }
   ],
   "source": [
    "train['LotFrontage']"
   ]
  },
  {
   "cell_type": "code",
   "execution_count": 40,
   "id": "3b094b69",
   "metadata": {
    "scrolled": true
   },
   "outputs": [
    {
     "data": {
      "text/plain": [
       "<AxesSubplot:xlabel='LotFrontage', ylabel='Neighborhood'>"
      ]
     },
     "execution_count": 40,
     "metadata": {},
     "output_type": "execute_result"
    },
    {
     "data": {
      "image/png": "[encoded data removed]",
      "text/plain": [
       "<Figure size 576x864 with 1 Axes>"
      ]
     },
     "metadata": {
      "needs_background": "light"
     },
     "output_type": "display_data"
    }
   ],
   "source": [
    "plt.figure(figsize=(8,12))\n",
    "sns.boxplot(x='LotFrontage', y='Neighborhood', data=train, orient='h')"
   ]
  },
  {
   "cell_type": "code",
   "execution_count": 41,
   "id": "13ad1cc7",
   "metadata": {},
   "outputs": [],
   "source": [
    "#replace null values with groupby mean"
   ]
  },
  {
   "cell_type": "code",
   "execution_count": 42,
   "id": "27569da9",
   "metadata": {},
   "outputs": [
    {
     "data": {
      "text/plain": [
       "Neighborhood\n",
       "Blmngtn    47.142857\n",
       "Blueste    24.000000\n",
       "BrDale     21.562500\n",
       "BrkSide    57.509804\n",
       "ClearCr    83.461538\n",
       "CollgCr    71.280000\n",
       "Crawfor    71.804878\n",
       "Edwards    64.811111\n",
       "Gilbert    79.877551\n",
       "IDOTRR     62.500000\n",
       "MeadowV    27.800000\n",
       "Mitchel    70.083333\n",
       "NAmes      76.462366\n",
       "NPkVill    32.285714\n",
       "NWAmes     81.288889\n",
       "NoRidge    91.878788\n",
       "NridgHt    81.881579\n",
       "OldTown    62.788991\n",
       "SWISU      58.913043\n",
       "Sawyer     74.437500\n",
       "SawyerW    71.500000\n",
       "Somerst    64.666667\n",
       "StoneBr    62.700000\n",
       "Timber     80.133333\n",
       "Veenker    59.714286\n",
       "Name: LotFrontage, dtype: float64"
      ]
     },
     "execution_count": 42,
     "metadata": {},
     "output_type": "execute_result"
    }
   ],
   "source": [
    "train.groupby('Neighborhood')['LotFrontage'].mean()"
   ]
  },
  {
   "cell_type": "code",
   "execution_count": 43,
   "id": "4da59059",
   "metadata": {},
   "outputs": [],
   "source": [
    "train['LotFrontage'] = train.groupby('Neighborhood')['LotFrontage'].transform(lambda value: value.fillna(value.mean()))"
   ]
  },
  {
   "cell_type": "code",
   "execution_count": 44,
   "id": "9ae9b281",
   "metadata": {},
   "outputs": [
    {
     "data": {
      "text/plain": [
       "MSZoning         0\n",
       "LotFrontage      0\n",
       "LotArea          0\n",
       "Street           0\n",
       "LotShape         0\n",
       "LandContour      0\n",
       "Utilities        0\n",
       "LotConfig        0\n",
       "LandSlope        0\n",
       "Neighborhood     0\n",
       "Condition1       0\n",
       "Condition2       0\n",
       "BldgType         0\n",
       "HouseStyle       0\n",
       "OverallQual      0\n",
       "YearBuilt        0\n",
       "YearRemodAdd     0\n",
       "RoofStyle        0\n",
       "RoofMatl         0\n",
       "Exterior1st      0\n",
       "Exterior2nd      0\n",
       "ExterQual        0\n",
       "ExterCond        0\n",
       "Foundation       0\n",
       "BsmtQual         0\n",
       "BsmtCond         0\n",
       "BsmtFinSF1       0\n",
       "TotalBsmtSF      0\n",
       "Heating          0\n",
       "HeatingQC        0\n",
       "CentralAir       0\n",
       "Electrical       0\n",
       "1stFlrSF         0\n",
       "2ndFlrSF         0\n",
       "GrLivArea        0\n",
       "FullBath         0\n",
       "HalfBath         0\n",
       "KitchenQual      0\n",
       "TotRmsAbvGrd     0\n",
       "Functional       0\n",
       "Fireplaces       0\n",
       "FireplaceQu      0\n",
       "GarageType       0\n",
       "GarageYrBlt      0\n",
       "GarageFinish     0\n",
       "GarageCars       0\n",
       "GarageArea       0\n",
       "GarageQual       0\n",
       "GarageCond       0\n",
       "PavedDrive       0\n",
       "WoodDeckSF       0\n",
       "OpenPorchSF      0\n",
       "SaleType         0\n",
       "SaleCondition    0\n",
       "SalePrice        0\n",
       "dtype: int64"
      ]
     },
     "execution_count": 44,
     "metadata": {},
     "output_type": "execute_result"
    }
   ],
   "source": [
    "#check for any null values in train data\n",
    "train.isnull().sum()"
   ]
  },
  {
   "cell_type": "markdown",
   "id": "5526d69d",
   "metadata": {},
   "source": [
    "**Impute values into rows where there are missing values in the train dataset**"
   ]
  },
  {
   "cell_type": "code",
   "execution_count": 45,
   "id": "86c01707",
   "metadata": {},
   "outputs": [],
   "source": [
    "test['LotFrontage'] = test.groupby('Neighborhood')['LotFrontage'].transform(lambda value: value.fillna(value.mean()))"
   ]
  },
  {
   "cell_type": "code",
   "execution_count": 46,
   "id": "75066a62",
   "metadata": {},
   "outputs": [
    {
     "data": {
      "text/plain": [
       "MSZoning         4\n",
       "LotFrontage      0\n",
       "LotArea          0\n",
       "Street           0\n",
       "LotShape         0\n",
       "LandContour      0\n",
       "Utilities        2\n",
       "LotConfig        0\n",
       "LandSlope        0\n",
       "Neighborhood     0\n",
       "Condition1       0\n",
       "Condition2       0\n",
       "BldgType         0\n",
       "HouseStyle       0\n",
       "OverallQual      0\n",
       "YearBuilt        0\n",
       "YearRemodAdd     0\n",
       "RoofStyle        0\n",
       "RoofMatl         0\n",
       "Exterior1st      1\n",
       "Exterior2nd      1\n",
       "ExterQual        0\n",
       "ExterCond        0\n",
       "Foundation       0\n",
       "BsmtQual         0\n",
       "BsmtCond         0\n",
       "BsmtFinSF1       1\n",
       "TotalBsmtSF      1\n",
       "Heating          0\n",
       "HeatingQC        0\n",
       "CentralAir       0\n",
       "Electrical       0\n",
       "1stFlrSF         0\n",
       "2ndFlrSF         0\n",
       "GrLivArea        0\n",
       "FullBath         0\n",
       "HalfBath         0\n",
       "KitchenQual      1\n",
       "TotRmsAbvGrd     0\n",
       "Functional       2\n",
       "Fireplaces       0\n",
       "FireplaceQu      0\n",
       "GarageType       0\n",
       "GarageYrBlt      0\n",
       "GarageFinish     0\n",
       "GarageCars       1\n",
       "GarageArea       1\n",
       "GarageQual       0\n",
       "GarageCond       0\n",
       "PavedDrive       0\n",
       "WoodDeckSF       0\n",
       "OpenPorchSF      0\n",
       "SaleType         1\n",
       "SaleCondition    0\n",
       "dtype: int64"
      ]
     },
     "execution_count": 46,
     "metadata": {},
     "output_type": "execute_result"
    }
   ],
   "source": [
    "test.isnull().sum()"
   ]
  },
  {
   "cell_type": "code",
   "execution_count": 47,
   "id": "93ccc022",
   "metadata": {},
   "outputs": [
    {
     "data": {
      "text/plain": [
       "array(['RH', 'RL', 'RM', 'FV', 'C (all)', nan], dtype=object)"
      ]
     },
     "execution_count": 47,
     "metadata": {},
     "output_type": "execute_result"
    }
   ],
   "source": [
    "test[\"MSZoning\"].unique()"
   ]
  },
  {
   "cell_type": "code",
   "execution_count": 48,
   "id": "85e262d6",
   "metadata": {},
   "outputs": [],
   "source": [
    "test['MSZoning'] = test.groupby('Neighborhood')['MSZoning'].transform(lambda value: value.fillna(value.mode()[0]))"
   ]
  },
  {
   "cell_type": "code",
   "execution_count": 49,
   "id": "78ff7e34",
   "metadata": {},
   "outputs": [],
   "source": [
    "test[\"Utilities\"] = test[\"Utilities\"].fillna('AllPub')"
   ]
  },
  {
   "cell_type": "code",
   "execution_count": 50,
   "id": "6619706a",
   "metadata": {},
   "outputs": [
    {
     "data": {
      "text/plain": [
       "array(['AllPub'], dtype=object)"
      ]
     },
     "execution_count": 50,
     "metadata": {},
     "output_type": "execute_result"
    }
   ],
   "source": [
    "test[\"Utilities\"].unique()"
   ]
  },
  {
   "cell_type": "code",
   "execution_count": 51,
   "id": "b526963a",
   "metadata": {},
   "outputs": [
    {
     "data": {
      "text/plain": [
       "array(['VinylSd', 'Wd Sdng', 'HdBoard', 'Plywood', 'MetalSd', 'CemntBd',\n",
       "       'WdShing', 'BrkFace', 'AsbShng', 'BrkComm', 'Stucco', 'AsphShn',\n",
       "       nan, 'CBlock'], dtype=object)"
      ]
     },
     "execution_count": 51,
     "metadata": {},
     "output_type": "execute_result"
    }
   ],
   "source": [
    "test[\"Exterior1st\"].unique()"
   ]
  },
  {
   "cell_type": "code",
   "execution_count": 52,
   "id": "543e074b",
   "metadata": {},
   "outputs": [],
   "source": [
    "test['Exterior1st'] = test.groupby('Neighborhood')['Exterior1st'].transform(lambda value: value.fillna(value.mode()[0]))"
   ]
  },
  {
   "cell_type": "code",
   "execution_count": 53,
   "id": "29e19b4d",
   "metadata": {},
   "outputs": [],
   "source": [
    "test['Exterior2nd']= test.groupby('Neighborhood')['Exterior2nd'].transform(lambda value: value.fillna(value.mode()[0]))"
   ]
  },
  {
   "cell_type": "code",
   "execution_count": 54,
   "id": "8266f9f7",
   "metadata": {},
   "outputs": [],
   "source": [
    "test['BsmtFinSF1'] = test['BsmtFinSF1'].fillna(0)"
   ]
  },
  {
   "cell_type": "code",
   "execution_count": 55,
   "id": "6c1ad80b",
   "metadata": {},
   "outputs": [],
   "source": [
    "test['TotalBsmtSF'] = test['TotalBsmtSF'].fillna(0)"
   ]
  },
  {
   "cell_type": "code",
   "execution_count": 56,
   "id": "9aaf831e",
   "metadata": {},
   "outputs": [
    {
     "data": {
      "text/html": [
       "<div>\n",
       "<style scoped>\n",
       "    .dataframe tbody tr th:only-of-type {\n",
       "        vertical-align: middle;\n",
       "    }\n",
       "\n",
       "    .dataframe tbody tr th {\n",
       "        vertical-align: top;\n",
       "    }\n",
       "\n",
       "    .dataframe thead th {\n",
       "        text-align: right;\n",
       "    }\n",
       "</style>\n",
       "<table border=\"1\" class=\"dataframe\">\n",
       "  <thead>\n",
       "    <tr style=\"text-align: right;\">\n",
       "      <th></th>\n",
       "      <th>MSZoning</th>\n",
       "      <th>LotFrontage</th>\n",
       "      <th>LotArea</th>\n",
       "      <th>Street</th>\n",
       "      <th>LotShape</th>\n",
       "      <th>LandContour</th>\n",
       "      <th>Utilities</th>\n",
       "      <th>LotConfig</th>\n",
       "      <th>LandSlope</th>\n",
       "      <th>Neighborhood</th>\n",
       "      <th>...</th>\n",
       "      <th>GarageFinish</th>\n",
       "      <th>GarageCars</th>\n",
       "      <th>GarageArea</th>\n",
       "      <th>GarageQual</th>\n",
       "      <th>GarageCond</th>\n",
       "      <th>PavedDrive</th>\n",
       "      <th>WoodDeckSF</th>\n",
       "      <th>OpenPorchSF</th>\n",
       "      <th>SaleType</th>\n",
       "      <th>SaleCondition</th>\n",
       "    </tr>\n",
       "  </thead>\n",
       "  <tbody>\n",
       "    <tr>\n",
       "      <th>1116</th>\n",
       "      <td>RM</td>\n",
       "      <td>50.0</td>\n",
       "      <td>9060</td>\n",
       "      <td>Pave</td>\n",
       "      <td>Reg</td>\n",
       "      <td>Lvl</td>\n",
       "      <td>AllPub</td>\n",
       "      <td>Inside</td>\n",
       "      <td>Gtl</td>\n",
       "      <td>IDOTRR</td>\n",
       "      <td>...</td>\n",
       "      <td>None</td>\n",
       "      <td>NaN</td>\n",
       "      <td>NaN</td>\n",
       "      <td>None</td>\n",
       "      <td>None</td>\n",
       "      <td>Y</td>\n",
       "      <td>174</td>\n",
       "      <td>0</td>\n",
       "      <td>WD</td>\n",
       "      <td>Alloca</td>\n",
       "    </tr>\n",
       "  </tbody>\n",
       "</table>\n",
       "<p>1 rows × 54 columns</p>\n",
       "</div>"
      ],
      "text/plain": [
       "     MSZoning  LotFrontage  LotArea Street LotShape LandContour Utilities  \\\n",
       "1116       RM         50.0     9060   Pave      Reg         Lvl    AllPub   \n",
       "\n",
       "     LotConfig LandSlope Neighborhood  ... GarageFinish GarageCars GarageArea  \\\n",
       "1116    Inside       Gtl       IDOTRR  ...         None        NaN        NaN   \n",
       "\n",
       "     GarageQual  GarageCond  PavedDrive  WoodDeckSF OpenPorchSF SaleType  \\\n",
       "1116       None        None           Y         174           0       WD   \n",
       "\n",
       "     SaleCondition  \n",
       "1116        Alloca  \n",
       "\n",
       "[1 rows x 54 columns]"
      ]
     },
     "execution_count": 56,
     "metadata": {},
     "output_type": "execute_result"
    }
   ],
   "source": [
    "test[test['GarageCars'].isnull()]"
   ]
  },
  {
   "cell_type": "code",
   "execution_count": 57,
   "id": "f7713757",
   "metadata": {},
   "outputs": [],
   "source": [
    "test['GarageCars']=test['GarageCars'].fillna(0)"
   ]
  },
  {
   "cell_type": "code",
   "execution_count": 58,
   "id": "ce6e3804",
   "metadata": {},
   "outputs": [],
   "source": [
    "test['GarageArea']=test['GarageArea'].fillna(0)"
   ]
  },
  {
   "cell_type": "code",
   "execution_count": 59,
   "id": "e9aa9121",
   "metadata": {},
   "outputs": [
    {
     "data": {
      "text/plain": [
       "array(['WD', 'COD', 'New', 'ConLD', 'Oth', 'Con', 'ConLw', 'ConLI', 'CWD',\n",
       "       nan], dtype=object)"
      ]
     },
     "execution_count": 59,
     "metadata": {},
     "output_type": "execute_result"
    }
   ],
   "source": [
    "test['SaleType'].unique()"
   ]
  },
  {
   "cell_type": "code",
   "execution_count": 60,
   "id": "50d42123",
   "metadata": {},
   "outputs": [
    {
     "data": {
      "text/plain": [
       "1029    1958\n",
       "Name: YearBuilt, dtype: int64"
      ]
     },
     "execution_count": 60,
     "metadata": {},
     "output_type": "execute_result"
    }
   ],
   "source": [
    "test[test['SaleType'].isnull()]['YearBuilt']"
   ]
  },
  {
   "cell_type": "code",
   "execution_count": 61,
   "id": "f6717b05",
   "metadata": {},
   "outputs": [
    {
     "data": {
      "text/plain": [
       "WD       1258\n",
       "New       117\n",
       "COD        44\n",
       "ConLD      17\n",
       "CWD         8\n",
       "ConLI       4\n",
       "Oth         4\n",
       "ConLw       3\n",
       "Con         3\n",
       "Name: SaleType, dtype: int64"
      ]
     },
     "execution_count": 61,
     "metadata": {},
     "output_type": "execute_result"
    }
   ],
   "source": [
    "test['SaleType'].value_counts()"
   ]
  },
  {
   "cell_type": "code",
   "execution_count": 62,
   "id": "d0d1fc0d",
   "metadata": {},
   "outputs": [],
   "source": [
    "test['SaleType'] = test['SaleType'].fillna('WD')"
   ]
  },
  {
   "cell_type": "markdown",
   "id": "dbef9006",
   "metadata": {},
   "source": [
    "**fill row with'KitchenQual' null values with 'GarageQual' null values"
   ]
  },
  {
   "cell_type": "code",
   "execution_count": 63,
   "id": "50db233e",
   "metadata": {},
   "outputs": [
    {
     "data": {
      "text/plain": [
       "95    Fa\n",
       "Name: GarageQual, dtype: object"
      ]
     },
     "execution_count": 63,
     "metadata": {},
     "output_type": "execute_result"
    }
   ],
   "source": [
    "test[test['KitchenQual'].isna()]['GarageQual']"
   ]
  },
  {
   "cell_type": "code",
   "execution_count": 64,
   "id": "55aab19f",
   "metadata": {},
   "outputs": [],
   "source": [
    "test['KitchenQual'] = test['KitchenQual'].fillna('Fa')"
   ]
  },
  {
   "cell_type": "code",
   "execution_count": 65,
   "id": "ec0bf852",
   "metadata": {},
   "outputs": [
    {
     "data": {
      "text/plain": [
       "array(['Typ', 'Min2', 'Min1', 'Mod', 'Maj1', 'Sev', 'Maj2', nan],\n",
       "      dtype=object)"
      ]
     },
     "execution_count": 65,
     "metadata": {},
     "output_type": "execute_result"
    }
   ],
   "source": [
    "test['Functional'].unique()"
   ]
  },
  {
   "cell_type": "code",
   "execution_count": 66,
   "id": "c7b717c5",
   "metadata": {},
   "outputs": [
    {
     "data": {
      "text/plain": [
       "Typ     1357\n",
       "Min2      36\n",
       "Min1      34\n",
       "Mod       20\n",
       "Maj1       5\n",
       "Maj2       4\n",
       "Sev        1\n",
       "Name: Functional, dtype: int64"
      ]
     },
     "execution_count": 66,
     "metadata": {},
     "output_type": "execute_result"
    }
   ],
   "source": [
    "test[\"Functional\"].value_counts()"
   ]
  },
  {
   "cell_type": "code",
   "execution_count": 67,
   "id": "27d8d453",
   "metadata": {},
   "outputs": [],
   "source": [
    "test[\"Functional\"]=test[\"Functional\"].fillna('Typ')"
   ]
  },
  {
   "cell_type": "markdown",
   "id": "bc01ad02",
   "metadata": {},
   "source": [
    "**Separate train dataset by numerical and object features and make dummy features for object features**"
   ]
  },
  {
   "cell_type": "code",
   "execution_count": 68,
   "id": "483d1109",
   "metadata": {},
   "outputs": [],
   "source": [
    "train_object = train.select_dtypes(include='object')"
   ]
  },
  {
   "cell_type": "code",
   "execution_count": 69,
   "id": "1d4abf34",
   "metadata": {},
   "outputs": [],
   "source": [
    "train_numeric = train.select_dtypes(exclude = 'object')"
   ]
  },
  {
   "cell_type": "code",
   "execution_count": 70,
   "id": "45158e81",
   "metadata": {},
   "outputs": [],
   "source": [
    "train_objects_dummies = pd.get_dummies(train_object,drop_first=True)"
   ]
  },
  {
   "cell_type": "markdown",
   "id": "63272c8a",
   "metadata": {},
   "source": [
    "**Concatenate numerical and dummy features for train dataset**"
   ]
  },
  {
   "cell_type": "code",
   "execution_count": 71,
   "id": "4c46aac8",
   "metadata": {},
   "outputs": [],
   "source": [
    "train_combined = pd.concat([train_numeric,train_objects_dummies], axis = 1)"
   ]
  },
  {
   "cell_type": "markdown",
   "id": "671b0702",
   "metadata": {},
   "source": [
    "**Make X train dataset by dropping SalePrice column**"
   ]
  },
  {
   "cell_type": "code",
   "execution_count": 72,
   "id": "ec50207c",
   "metadata": {},
   "outputs": [],
   "source": [
    "X_train = train_combined.drop(\"SalePrice\", axis=1)"
   ]
  },
  {
   "cell_type": "markdown",
   "id": "0db9fd1a",
   "metadata": {},
   "source": [
    "**Separate test dataset by numerical and object features and make dummy features for object features**"
   ]
  },
  {
   "cell_type": "code",
   "execution_count": 73,
   "id": "54b31e43",
   "metadata": {},
   "outputs": [],
   "source": [
    "test_object = test.select_dtypes(include='object')"
   ]
  },
  {
   "cell_type": "code",
   "execution_count": 74,
   "id": "b3876471",
   "metadata": {},
   "outputs": [],
   "source": [
    "test_numeric = test.select_dtypes(exclude = 'object')"
   ]
  },
  {
   "cell_type": "code",
   "execution_count": 75,
   "id": "f648b3c7",
   "metadata": {},
   "outputs": [],
   "source": [
    "test_objects_dummies = pd.get_dummies(test_object,drop_first=True)"
   ]
  },
  {
   "cell_type": "markdown",
   "id": "1f9d348b",
   "metadata": {},
   "source": [
    "**Concatenate numerical and dummy features for test dataset**"
   ]
  },
  {
   "cell_type": "code",
   "execution_count": 76,
   "id": "6dbd0cbc",
   "metadata": {},
   "outputs": [],
   "source": [
    "test_combined = pd.concat([test_numeric,test_objects_dummies], axis = 1)"
   ]
  },
  {
   "cell_type": "markdown",
   "id": "b2534bee",
   "metadata": {},
   "source": [
    "**Find list of dummy feature columns that exist on the train dataset that are missing in the test dataset**"
   ]
  },
  {
   "cell_type": "code",
   "execution_count": 77,
   "id": "196f0434",
   "metadata": {},
   "outputs": [],
   "source": [
    "missing_list = list(set(X_train)-set(test_combined))"
   ]
  },
  {
   "cell_type": "markdown",
   "id": "fcd17936",
   "metadata": {},
   "source": [
    "**Make a dataset with dummy feature columns that are missing in the test dataset filled with zeros**"
   ]
  },
  {
   "cell_type": "code",
   "execution_count": 78,
   "id": "14178deb",
   "metadata": {},
   "outputs": [],
   "source": [
    "test_dummy_add = pd.DataFrame(0.0,index=range(len(test_combined)),columns=missing_list)"
   ]
  },
  {
   "cell_type": "code",
   "execution_count": 79,
   "id": "634586b7",
   "metadata": {},
   "outputs": [
    {
     "data": {
      "text/plain": [
       "(1459, 16)"
      ]
     },
     "execution_count": 79,
     "metadata": {},
     "output_type": "execute_result"
    }
   ],
   "source": [
    "test_dummy_add.shape"
   ]
  },
  {
   "cell_type": "markdown",
   "id": "85208e1e",
   "metadata": {},
   "source": [
    "**Add the dataset with dummy feature columns that are missing into the test dataset**"
   ]
  },
  {
   "cell_type": "code",
   "execution_count": 80,
   "id": "ab0b0e23",
   "metadata": {},
   "outputs": [],
   "source": [
    "test_combined_dummies = pd.concat([test_combined,test_dummy_add], axis = 1)"
   ]
  },
  {
   "cell_type": "code",
   "execution_count": 81,
   "id": "cce8594a",
   "metadata": {},
   "outputs": [
    {
     "data": {
      "text/html": [
       "<div>\n",
       "<style scoped>\n",
       "    .dataframe tbody tr th:only-of-type {\n",
       "        vertical-align: middle;\n",
       "    }\n",
       "\n",
       "    .dataframe tbody tr th {\n",
       "        vertical-align: top;\n",
       "    }\n",
       "\n",
       "    .dataframe thead th {\n",
       "        text-align: right;\n",
       "    }\n",
       "</style>\n",
       "<table border=\"1\" class=\"dataframe\">\n",
       "  <thead>\n",
       "    <tr style=\"text-align: right;\">\n",
       "      <th></th>\n",
       "      <th>LotFrontage</th>\n",
       "      <th>LotArea</th>\n",
       "      <th>OverallQual</th>\n",
       "      <th>YearBuilt</th>\n",
       "      <th>YearRemodAdd</th>\n",
       "      <th>BsmtFinSF1</th>\n",
       "      <th>TotalBsmtSF</th>\n",
       "      <th>1stFlrSF</th>\n",
       "      <th>2ndFlrSF</th>\n",
       "      <th>GrLivArea</th>\n",
       "      <th>...</th>\n",
       "      <th>Condition2_RRAn</th>\n",
       "      <th>Electrical_Mix</th>\n",
       "      <th>Condition2_RRAe</th>\n",
       "      <th>Condition2_RRNn</th>\n",
       "      <th>HouseStyle_2.5Fin</th>\n",
       "      <th>Heating_OthW</th>\n",
       "      <th>Utilities_NoSeWa</th>\n",
       "      <th>Electrical_None</th>\n",
       "      <th>RoofMatl_Roll</th>\n",
       "      <th>Exterior1st_ImStucc</th>\n",
       "    </tr>\n",
       "  </thead>\n",
       "  <tbody>\n",
       "    <tr>\n",
       "      <th>0</th>\n",
       "      <td>80.0</td>\n",
       "      <td>11622</td>\n",
       "      <td>5</td>\n",
       "      <td>1961</td>\n",
       "      <td>1961</td>\n",
       "      <td>468.0</td>\n",
       "      <td>882.0</td>\n",
       "      <td>896</td>\n",
       "      <td>0</td>\n",
       "      <td>896</td>\n",
       "      <td>...</td>\n",
       "      <td>0.0</td>\n",
       "      <td>0.0</td>\n",
       "      <td>0.0</td>\n",
       "      <td>0.0</td>\n",
       "      <td>0.0</td>\n",
       "      <td>0.0</td>\n",
       "      <td>0.0</td>\n",
       "      <td>0.0</td>\n",
       "      <td>0.0</td>\n",
       "      <td>0.0</td>\n",
       "    </tr>\n",
       "    <tr>\n",
       "      <th>1</th>\n",
       "      <td>81.0</td>\n",
       "      <td>14267</td>\n",
       "      <td>6</td>\n",
       "      <td>1958</td>\n",
       "      <td>1958</td>\n",
       "      <td>923.0</td>\n",
       "      <td>1329.0</td>\n",
       "      <td>1329</td>\n",
       "      <td>0</td>\n",
       "      <td>1329</td>\n",
       "      <td>...</td>\n",
       "      <td>0.0</td>\n",
       "      <td>0.0</td>\n",
       "      <td>0.0</td>\n",
       "      <td>0.0</td>\n",
       "      <td>0.0</td>\n",
       "      <td>0.0</td>\n",
       "      <td>0.0</td>\n",
       "      <td>0.0</td>\n",
       "      <td>0.0</td>\n",
       "      <td>0.0</td>\n",
       "    </tr>\n",
       "    <tr>\n",
       "      <th>2</th>\n",
       "      <td>74.0</td>\n",
       "      <td>13830</td>\n",
       "      <td>5</td>\n",
       "      <td>1997</td>\n",
       "      <td>1998</td>\n",
       "      <td>791.0</td>\n",
       "      <td>928.0</td>\n",
       "      <td>928</td>\n",
       "      <td>701</td>\n",
       "      <td>1629</td>\n",
       "      <td>...</td>\n",
       "      <td>0.0</td>\n",
       "      <td>0.0</td>\n",
       "      <td>0.0</td>\n",
       "      <td>0.0</td>\n",
       "      <td>0.0</td>\n",
       "      <td>0.0</td>\n",
       "      <td>0.0</td>\n",
       "      <td>0.0</td>\n",
       "      <td>0.0</td>\n",
       "      <td>0.0</td>\n",
       "    </tr>\n",
       "    <tr>\n",
       "      <th>3</th>\n",
       "      <td>78.0</td>\n",
       "      <td>9978</td>\n",
       "      <td>6</td>\n",
       "      <td>1998</td>\n",
       "      <td>1998</td>\n",
       "      <td>602.0</td>\n",
       "      <td>926.0</td>\n",
       "      <td>926</td>\n",
       "      <td>678</td>\n",
       "      <td>1604</td>\n",
       "      <td>...</td>\n",
       "      <td>0.0</td>\n",
       "      <td>0.0</td>\n",
       "      <td>0.0</td>\n",
       "      <td>0.0</td>\n",
       "      <td>0.0</td>\n",
       "      <td>0.0</td>\n",
       "      <td>0.0</td>\n",
       "      <td>0.0</td>\n",
       "      <td>0.0</td>\n",
       "      <td>0.0</td>\n",
       "    </tr>\n",
       "    <tr>\n",
       "      <th>4</th>\n",
       "      <td>43.0</td>\n",
       "      <td>5005</td>\n",
       "      <td>8</td>\n",
       "      <td>1992</td>\n",
       "      <td>1992</td>\n",
       "      <td>263.0</td>\n",
       "      <td>1280.0</td>\n",
       "      <td>1280</td>\n",
       "      <td>0</td>\n",
       "      <td>1280</td>\n",
       "      <td>...</td>\n",
       "      <td>0.0</td>\n",
       "      <td>0.0</td>\n",
       "      <td>0.0</td>\n",
       "      <td>0.0</td>\n",
       "      <td>0.0</td>\n",
       "      <td>0.0</td>\n",
       "      <td>0.0</td>\n",
       "      <td>0.0</td>\n",
       "      <td>0.0</td>\n",
       "      <td>0.0</td>\n",
       "    </tr>\n",
       "    <tr>\n",
       "      <th>...</th>\n",
       "      <td>...</td>\n",
       "      <td>...</td>\n",
       "      <td>...</td>\n",
       "      <td>...</td>\n",
       "      <td>...</td>\n",
       "      <td>...</td>\n",
       "      <td>...</td>\n",
       "      <td>...</td>\n",
       "      <td>...</td>\n",
       "      <td>...</td>\n",
       "      <td>...</td>\n",
       "      <td>...</td>\n",
       "      <td>...</td>\n",
       "      <td>...</td>\n",
       "      <td>...</td>\n",
       "      <td>...</td>\n",
       "      <td>...</td>\n",
       "      <td>...</td>\n",
       "      <td>...</td>\n",
       "      <td>...</td>\n",
       "      <td>...</td>\n",
       "    </tr>\n",
       "    <tr>\n",
       "      <th>1454</th>\n",
       "      <td>21.0</td>\n",
       "      <td>1936</td>\n",
       "      <td>4</td>\n",
       "      <td>1970</td>\n",
       "      <td>1970</td>\n",
       "      <td>0.0</td>\n",
       "      <td>546.0</td>\n",
       "      <td>546</td>\n",
       "      <td>546</td>\n",
       "      <td>1092</td>\n",
       "      <td>...</td>\n",
       "      <td>0.0</td>\n",
       "      <td>0.0</td>\n",
       "      <td>0.0</td>\n",
       "      <td>0.0</td>\n",
       "      <td>0.0</td>\n",
       "      <td>0.0</td>\n",
       "      <td>0.0</td>\n",
       "      <td>0.0</td>\n",
       "      <td>0.0</td>\n",
       "      <td>0.0</td>\n",
       "    </tr>\n",
       "    <tr>\n",
       "      <th>1455</th>\n",
       "      <td>21.0</td>\n",
       "      <td>1894</td>\n",
       "      <td>4</td>\n",
       "      <td>1970</td>\n",
       "      <td>1970</td>\n",
       "      <td>252.0</td>\n",
       "      <td>546.0</td>\n",
       "      <td>546</td>\n",
       "      <td>546</td>\n",
       "      <td>1092</td>\n",
       "      <td>...</td>\n",
       "      <td>0.0</td>\n",
       "      <td>0.0</td>\n",
       "      <td>0.0</td>\n",
       "      <td>0.0</td>\n",
       "      <td>0.0</td>\n",
       "      <td>0.0</td>\n",
       "      <td>0.0</td>\n",
       "      <td>0.0</td>\n",
       "      <td>0.0</td>\n",
       "      <td>0.0</td>\n",
       "    </tr>\n",
       "    <tr>\n",
       "      <th>1456</th>\n",
       "      <td>160.0</td>\n",
       "      <td>20000</td>\n",
       "      <td>5</td>\n",
       "      <td>1960</td>\n",
       "      <td>1996</td>\n",
       "      <td>1224.0</td>\n",
       "      <td>1224.0</td>\n",
       "      <td>1224</td>\n",
       "      <td>0</td>\n",
       "      <td>1224</td>\n",
       "      <td>...</td>\n",
       "      <td>0.0</td>\n",
       "      <td>0.0</td>\n",
       "      <td>0.0</td>\n",
       "      <td>0.0</td>\n",
       "      <td>0.0</td>\n",
       "      <td>0.0</td>\n",
       "      <td>0.0</td>\n",
       "      <td>0.0</td>\n",
       "      <td>0.0</td>\n",
       "      <td>0.0</td>\n",
       "    </tr>\n",
       "    <tr>\n",
       "      <th>1457</th>\n",
       "      <td>62.0</td>\n",
       "      <td>10441</td>\n",
       "      <td>5</td>\n",
       "      <td>1992</td>\n",
       "      <td>1992</td>\n",
       "      <td>337.0</td>\n",
       "      <td>912.0</td>\n",
       "      <td>970</td>\n",
       "      <td>0</td>\n",
       "      <td>970</td>\n",
       "      <td>...</td>\n",
       "      <td>0.0</td>\n",
       "      <td>0.0</td>\n",
       "      <td>0.0</td>\n",
       "      <td>0.0</td>\n",
       "      <td>0.0</td>\n",
       "      <td>0.0</td>\n",
       "      <td>0.0</td>\n",
       "      <td>0.0</td>\n",
       "      <td>0.0</td>\n",
       "      <td>0.0</td>\n",
       "    </tr>\n",
       "    <tr>\n",
       "      <th>1458</th>\n",
       "      <td>74.0</td>\n",
       "      <td>9627</td>\n",
       "      <td>7</td>\n",
       "      <td>1993</td>\n",
       "      <td>1994</td>\n",
       "      <td>758.0</td>\n",
       "      <td>996.0</td>\n",
       "      <td>996</td>\n",
       "      <td>1004</td>\n",
       "      <td>2000</td>\n",
       "      <td>...</td>\n",
       "      <td>0.0</td>\n",
       "      <td>0.0</td>\n",
       "      <td>0.0</td>\n",
       "      <td>0.0</td>\n",
       "      <td>0.0</td>\n",
       "      <td>0.0</td>\n",
       "      <td>0.0</td>\n",
       "      <td>0.0</td>\n",
       "      <td>0.0</td>\n",
       "      <td>0.0</td>\n",
       "    </tr>\n",
       "  </tbody>\n",
       "</table>\n",
       "<p>1459 rows × 210 columns</p>\n",
       "</div>"
      ],
      "text/plain": [
       "      LotFrontage  LotArea  OverallQual  YearBuilt  YearRemodAdd  BsmtFinSF1  \\\n",
       "0            80.0    11622            5       1961          1961       468.0   \n",
       "1            81.0    14267            6       1958          1958       923.0   \n",
       "2            74.0    13830            5       1997          1998       791.0   \n",
       "3            78.0     9978            6       1998          1998       602.0   \n",
       "4            43.0     5005            8       1992          1992       263.0   \n",
       "...           ...      ...          ...        ...           ...         ...   \n",
       "1454         21.0     1936            4       1970          1970         0.0   \n",
       "1455         21.0     1894            4       1970          1970       252.0   \n",
       "1456        160.0    20000            5       1960          1996      1224.0   \n",
       "1457         62.0    10441            5       1992          1992       337.0   \n",
       "1458         74.0     9627            7       1993          1994       758.0   \n",
       "\n",
       "      TotalBsmtSF  1stFlrSF  2ndFlrSF  GrLivArea  ...  Condition2_RRAn  \\\n",
       "0           882.0       896         0        896  ...              0.0   \n",
       "1          1329.0      1329         0       1329  ...              0.0   \n",
       "2           928.0       928       701       1629  ...              0.0   \n",
       "3           926.0       926       678       1604  ...              0.0   \n",
       "4          1280.0      1280         0       1280  ...              0.0   \n",
       "...           ...       ...       ...        ...  ...              ...   \n",
       "1454        546.0       546       546       1092  ...              0.0   \n",
       "1455        546.0       546       546       1092  ...              0.0   \n",
       "1456       1224.0      1224         0       1224  ...              0.0   \n",
       "1457        912.0       970         0        970  ...              0.0   \n",
       "1458        996.0       996      1004       2000  ...              0.0   \n",
       "\n",
       "      Electrical_Mix  Condition2_RRAe  Condition2_RRNn  HouseStyle_2.5Fin  \\\n",
       "0                0.0              0.0              0.0                0.0   \n",
       "1                0.0              0.0              0.0                0.0   \n",
       "2                0.0              0.0              0.0                0.0   \n",
       "3                0.0              0.0              0.0                0.0   \n",
       "4                0.0              0.0              0.0                0.0   \n",
       "...              ...              ...              ...                ...   \n",
       "1454             0.0              0.0              0.0                0.0   \n",
       "1455             0.0              0.0              0.0                0.0   \n",
       "1456             0.0              0.0              0.0                0.0   \n",
       "1457             0.0              0.0              0.0                0.0   \n",
       "1458             0.0              0.0              0.0                0.0   \n",
       "\n",
       "      Heating_OthW  Utilities_NoSeWa  Electrical_None  RoofMatl_Roll  \\\n",
       "0              0.0               0.0              0.0            0.0   \n",
       "1              0.0               0.0              0.0            0.0   \n",
       "2              0.0               0.0              0.0            0.0   \n",
       "3              0.0               0.0              0.0            0.0   \n",
       "4              0.0               0.0              0.0            0.0   \n",
       "...            ...               ...              ...            ...   \n",
       "1454           0.0               0.0              0.0            0.0   \n",
       "1455           0.0               0.0              0.0            0.0   \n",
       "1456           0.0               0.0              0.0            0.0   \n",
       "1457           0.0               0.0              0.0            0.0   \n",
       "1458           0.0               0.0              0.0            0.0   \n",
       "\n",
       "      Exterior1st_ImStucc  \n",
       "0                     0.0  \n",
       "1                     0.0  \n",
       "2                     0.0  \n",
       "3                     0.0  \n",
       "4                     0.0  \n",
       "...                   ...  \n",
       "1454                  0.0  \n",
       "1455                  0.0  \n",
       "1456                  0.0  \n",
       "1457                  0.0  \n",
       "1458                  0.0  \n",
       "\n",
       "[1459 rows x 210 columns]"
      ]
     },
     "execution_count": 81,
     "metadata": {},
     "output_type": "execute_result"
    }
   ],
   "source": [
    "test_combined_dummies"
   ]
  },
  {
   "cell_type": "code",
   "execution_count": 82,
   "id": "5a888e94",
   "metadata": {},
   "outputs": [
    {
     "data": {
      "text/plain": [
       "LotFrontage            0\n",
       "LotArea                0\n",
       "OverallQual            0\n",
       "YearBuilt              0\n",
       "YearRemodAdd           0\n",
       "                      ..\n",
       "Heating_OthW           0\n",
       "Utilities_NoSeWa       0\n",
       "Electrical_None        0\n",
       "RoofMatl_Roll          0\n",
       "Exterior1st_ImStucc    0\n",
       "Length: 210, dtype: int64"
      ]
     },
     "execution_count": 82,
     "metadata": {},
     "output_type": "execute_result"
    }
   ],
   "source": [
    "test_combined_dummies.isnull().sum()"
   ]
  },
  {
   "cell_type": "markdown",
   "id": "6c0aa394",
   "metadata": {},
   "source": [
    "**Make X train data by dropping SalePrice column. Make y train data with the SalePrice column. The X test does not need this process as the the test data does not have the SalePrice column. (The y predicted values are compared when a csv file with the predictions are submitted into Kaggle.)**"
   ]
  },
  {
   "cell_type": "code",
   "execution_count": 83,
   "id": "ff47a2aa",
   "metadata": {},
   "outputs": [],
   "source": [
    "X_train = train_combined.drop('SalePrice', axis =1)"
   ]
  },
  {
   "cell_type": "code",
   "execution_count": 84,
   "id": "25255ac9",
   "metadata": {},
   "outputs": [],
   "source": [
    "y_train = train_combined[\"SalePrice\"]"
   ]
  },
  {
   "cell_type": "code",
   "execution_count": 85,
   "id": "79a7888f",
   "metadata": {},
   "outputs": [],
   "source": [
    "X_test = test_combined_dummies"
   ]
  },
  {
   "cell_type": "markdown",
   "id": "b113899c",
   "metadata": {},
   "source": [
    "**Make function to scale (standardize) the data**"
   ]
  },
  {
   "cell_type": "code",
   "execution_count": 86,
   "id": "f005fd70",
   "metadata": {},
   "outputs": [],
   "source": [
    "def standardize(column):\n",
    "    if column.std()==0:\n",
    "        return column - column.mean()\n",
    "    return (column - column.mean())/column.std()"
   ]
  },
  {
   "cell_type": "code",
   "execution_count": 87,
   "id": "e95d872a",
   "metadata": {},
   "outputs": [],
   "source": [
    "X_train_scaled = X_train.apply(standardize)"
   ]
  },
  {
   "cell_type": "code",
   "execution_count": 88,
   "id": "e2c6eb28",
   "metadata": {},
   "outputs": [],
   "source": [
    "y_train_scaled = (y_train - y_train.mean())/y_train.std()"
   ]
  },
  {
   "cell_type": "markdown",
   "id": "dc8420fe",
   "metadata": {},
   "source": [
    "**Fit train data into Elastic Net model. Use GridSearchCV to find the best parameters.**"
   ]
  },
  {
   "cell_type": "code",
   "execution_count": 89,
   "id": "34c3ac3c",
   "metadata": {},
   "outputs": [],
   "source": [
    "from sklearn.linear_model import ElasticNet\n",
    "model_1 = ElasticNet()"
   ]
  },
  {
   "cell_type": "code",
   "execution_count": 90,
   "id": "a154e42c",
   "metadata": {},
   "outputs": [],
   "source": [
    "param_grid = {'alpha':[0.1,1,5,10,50,100,500,1000],'l1_ratio':[0.1,0.5,0.7,0.95,0.99,1]}"
   ]
  },
  {
   "cell_type": "code",
   "execution_count": 91,
   "id": "fca51085",
   "metadata": {},
   "outputs": [],
   "source": [
    "from sklearn.model_selection import GridSearchCV, cross_val_score"
   ]
  },
  {
   "cell_type": "code",
   "execution_count": 92,
   "id": "45c6b315",
   "metadata": {},
   "outputs": [],
   "source": [
    "grid_model = GridSearchCV(estimator=model_1,\n",
    "                         param_grid = param_grid,\n",
    "                         scoring = 'neg_mean_squared_error',\n",
    "                         cv=5,\n",
    "                         verbose=1,return_train_score=True)"
   ]
  },
  {
   "cell_type": "code",
   "execution_count": 93,
   "id": "fad8b2a8",
   "metadata": {},
   "outputs": [
    {
     "name": "stdout",
     "output_type": "stream",
     "text": [
      "Fitting 5 folds for each of 48 candidates, totalling 240 fits\n"
     ]
    },
    {
     "data": {
      "text/plain": [
       "GridSearchCV(cv=5, estimator=ElasticNet(),\n",
       "             param_grid={'alpha': [0.1, 1, 5, 10, 50, 100, 500, 1000],\n",
       "                         'l1_ratio': [0.1, 0.5, 0.7, 0.95, 0.99, 1]},\n",
       "             return_train_score=True, scoring='neg_mean_squared_error',\n",
       "             verbose=1)"
      ]
     },
     "execution_count": 93,
     "metadata": {},
     "output_type": "execute_result"
    }
   ],
   "source": [
    "grid_model.fit(X_train_scaled,y_train_scaled)"
   ]
  },
  {
   "cell_type": "code",
   "execution_count": 94,
   "id": "19769f48",
   "metadata": {},
   "outputs": [
    {
     "data": {
      "text/plain": [
       "ElasticNet(alpha=0.1, l1_ratio=0.1)"
      ]
     },
     "execution_count": 94,
     "metadata": {},
     "output_type": "execute_result"
    }
   ],
   "source": [
    "grid_model.best_estimator_"
   ]
  },
  {
   "cell_type": "code",
   "execution_count": 95,
   "id": "0129a01a",
   "metadata": {},
   "outputs": [
    {
     "data": {
      "text/plain": [
       "{'alpha': 0.1, 'l1_ratio': 0.1}"
      ]
     },
     "execution_count": 95,
     "metadata": {},
     "output_type": "execute_result"
    }
   ],
   "source": [
    "grid_model.best_params_"
   ]
  },
  {
   "cell_type": "code",
   "execution_count": 96,
   "id": "8df18732",
   "metadata": {},
   "outputs": [
    {
     "data": {
      "text/plain": [
       "0.33692945405158603"
      ]
     },
     "execution_count": 96,
     "metadata": {},
     "output_type": "execute_result"
    }
   ],
   "source": [
    "np.sqrt(-1*grid_model.best_score_)"
   ]
  },
  {
   "cell_type": "markdown",
   "id": "babdf7d9",
   "metadata": {},
   "source": [
    "**Fit train data into Random Forest model. Use GridSearchCV to find the best parameters.**"
   ]
  },
  {
   "cell_type": "code",
   "execution_count": 97,
   "id": "4a3e9f79",
   "metadata": {},
   "outputs": [],
   "source": [
    "from sklearn.ensemble import RandomForestRegressor"
   ]
  },
  {
   "cell_type": "code",
   "execution_count": 98,
   "id": "bed38b7d",
   "metadata": {},
   "outputs": [],
   "source": [
    "model_2 = RandomForestRegressor(random_state=8)"
   ]
  },
  {
   "cell_type": "code",
   "execution_count": 99,
   "id": "a2a93215",
   "metadata": {},
   "outputs": [],
   "source": [
    "param_grid_2 = {'max_depth':[5,10,15],'n_estimators':[100,250,500],'min_samples_split':[3,5,10]}"
   ]
  },
  {
   "cell_type": "code",
   "execution_count": 100,
   "id": "002d2239",
   "metadata": {},
   "outputs": [],
   "source": [
    "grid_model_2 = GridSearchCV(estimator=model_2,\n",
    "                         param_grid = param_grid_2,\n",
    "                         cv=5,\n",
    "                         scoring = 'neg_mean_squared_error',\n",
    "                         n_jobs=-1,\n",
    "                         )"
   ]
  },
  {
   "cell_type": "code",
   "execution_count": 101,
   "id": "62049e6d",
   "metadata": {},
   "outputs": [
    {
     "data": {
      "text/plain": [
       "GridSearchCV(cv=5, estimator=RandomForestRegressor(random_state=8), n_jobs=-1,\n",
       "             param_grid={'max_depth': [5, 10, 15],\n",
       "                         'min_samples_split': [3, 5, 10],\n",
       "                         'n_estimators': [100, 250, 500]},\n",
       "             scoring='neg_mean_squared_error')"
      ]
     },
     "execution_count": 101,
     "metadata": {},
     "output_type": "execute_result"
    }
   ],
   "source": [
    "grid_model_2.fit(X_train_scaled,y_train_scaled)"
   ]
  },
  {
   "cell_type": "code",
   "execution_count": 102,
   "id": "2139e856",
   "metadata": {},
   "outputs": [
    {
     "data": {
      "text/plain": [
       "{'max_depth': 15, 'min_samples_split': 3, 'n_estimators': 500}"
      ]
     },
     "execution_count": 102,
     "metadata": {},
     "output_type": "execute_result"
    }
   ],
   "source": [
    "grid_model_2.best_params_"
   ]
  },
  {
   "cell_type": "code",
   "execution_count": 103,
   "id": "53c5e136",
   "metadata": {},
   "outputs": [
    {
     "data": {
      "text/plain": [
       "0.33601587640407937"
      ]
     },
     "execution_count": 103,
     "metadata": {},
     "output_type": "execute_result"
    }
   ],
   "source": [
    "np.sqrt(-1*grid_model_2.best_score_)"
   ]
  },
  {
   "cell_type": "markdown",
   "id": "c73ae3f7",
   "metadata": {},
   "source": [
    "**Fit train data into Gradient Boost model. Use GridSearchCV to find the best parameters.**"
   ]
  },
  {
   "cell_type": "code",
   "execution_count": 104,
   "id": "f2a8cc76",
   "metadata": {},
   "outputs": [],
   "source": [
    "from sklearn.ensemble import GradientBoostingRegressor"
   ]
  },
  {
   "cell_type": "code",
   "execution_count": 105,
   "id": "30e43427",
   "metadata": {},
   "outputs": [],
   "source": [
    "model_3 = GradientBoostingRegressor(random_state = 8)"
   ]
  },
  {
   "cell_type": "code",
   "execution_count": 106,
   "id": "425b0479",
   "metadata": {},
   "outputs": [],
   "source": [
    "param_grid_3 = {'max_depth':[12,15,20],\n",
    "                'n_estimators':[200,300],\n",
    "                'min_samples_leaf':[10,25],\n",
    "                'learning_rate':[0.001,0.01,0.1],\n",
    "                'max_features':[0.01,0.1,0.7]}"
   ]
  },
  {
   "cell_type": "code",
   "execution_count": 107,
   "id": "d7bc163a",
   "metadata": {},
   "outputs": [],
   "source": [
    "grid_model_3 = GridSearchCV(estimator=model_3,\n",
    "                         param_grid = param_grid_3,\n",
    "                         cv=5,\n",
    "                         scoring = 'neg_mean_squared_error',\n",
    "                         n_jobs=-1,\n",
    "                         )"
   ]
  },
  {
   "cell_type": "code",
   "execution_count": 108,
   "id": "eff8fae9",
   "metadata": {},
   "outputs": [
    {
     "data": {
      "text/plain": [
       "GridSearchCV(cv=5, estimator=GradientBoostingRegressor(random_state=8),\n",
       "             n_jobs=-1,\n",
       "             param_grid={'learning_rate': [0.001, 0.01, 0.1],\n",
       "                         'max_depth': [12, 15, 20],\n",
       "                         'max_features': [0.01, 0.1, 0.7],\n",
       "                         'min_samples_leaf': [10, 25],\n",
       "                         'n_estimators': [200, 300]},\n",
       "             scoring='neg_mean_squared_error')"
      ]
     },
     "execution_count": 108,
     "metadata": {},
     "output_type": "execute_result"
    }
   ],
   "source": [
    "grid_model_3.fit(X_train_scaled,y_train_scaled)"
   ]
  },
  {
   "cell_type": "code",
   "execution_count": 109,
   "id": "cf405c7e",
   "metadata": {},
   "outputs": [
    {
     "data": {
      "text/plain": [
       "0.2981138955626299"
      ]
     },
     "execution_count": 109,
     "metadata": {},
     "output_type": "execute_result"
    }
   ],
   "source": [
    "np.sqrt(-1*grid_model_3.best_score_)"
   ]
  },
  {
   "cell_type": "markdown",
   "id": "d60c96a5",
   "metadata": {},
   "source": [
    "**Fit train data into Ridge model. Use GridSearchCV to find the best parameters.**"
   ]
  },
  {
   "cell_type": "code",
   "execution_count": 110,
   "id": "e6dda810",
   "metadata": {},
   "outputs": [],
   "source": [
    "from sklearn.linear_model import Ridge\n",
    "model_4 = Ridge()"
   ]
  },
  {
   "cell_type": "code",
   "execution_count": 111,
   "id": "f1334c7d",
   "metadata": {},
   "outputs": [],
   "source": [
    "param_grid_4 = {'alpha':[0.05,0.1,1,3,5,10],'solver':['auto','svd','cholesky','lsqr','sparse_cg','sag']}"
   ]
  },
  {
   "cell_type": "code",
   "execution_count": 112,
   "id": "c81883c6",
   "metadata": {},
   "outputs": [],
   "source": [
    "grid_model_4 = GridSearchCV(estimator=model_4,\n",
    "                         param_grid = param_grid_4,\n",
    "                         cv=5,\n",
    "                         scoring = 'neg_mean_squared_error',\n",
    "                         n_jobs=-1,\n",
    "                         )"
   ]
  },
  {
   "cell_type": "code",
   "execution_count": 113,
   "id": "a63646f2",
   "metadata": {},
   "outputs": [
    {
     "data": {
      "text/plain": [
       "GridSearchCV(cv=5, estimator=Ridge(), n_jobs=-1,\n",
       "             param_grid={'alpha': [0.05, 0.1, 1, 3, 5, 10],\n",
       "                         'solver': ['auto', 'svd', 'cholesky', 'lsqr',\n",
       "                                    'sparse_cg', 'sag']},\n",
       "             scoring='neg_mean_squared_error')"
      ]
     },
     "execution_count": 113,
     "metadata": {},
     "output_type": "execute_result"
    }
   ],
   "source": [
    "grid_model_4.fit(X_train_scaled,y_train_scaled)"
   ]
  },
  {
   "cell_type": "code",
   "execution_count": 114,
   "id": "f5d6d405",
   "metadata": {},
   "outputs": [
    {
     "data": {
      "text/plain": [
       "0.33275505488012724"
      ]
     },
     "execution_count": 114,
     "metadata": {},
     "output_type": "execute_result"
    }
   ],
   "source": [
    "np.sqrt(-1*grid_model_4.best_score_)"
   ]
  },
  {
   "cell_type": "markdown",
   "id": "94678be0",
   "metadata": {},
   "source": [
    "**Use Voting Regressor to combine all 4 models. Overall accuracy is improved by averaging the predictions of each model. Extra weight was put on the Gradient Boost model as it had the smallest root mean squared error out of all the models**"
   ]
  },
  {
   "cell_type": "code",
   "execution_count": 115,
   "id": "2577266f",
   "metadata": {},
   "outputs": [],
   "source": [
    "from sklearn.ensemble import VotingRegressor"
   ]
  },
  {
   "cell_type": "code",
   "execution_count": 116,
   "id": "aeb4043c",
   "metadata": {},
   "outputs": [],
   "source": [
    "votingregressor = VotingRegressor([\n",
    "    ('ElasticNet', grid_model.best_estimator_),\n",
    "    ('RandomForest', grid_model_2.best_estimator_),\n",
    "    ('GradientBoost', grid_model_3.best_estimator_),\n",
    "    ('Ridge', grid_model_4.best_estimator_)],\n",
    "    weights = [1,1,2,1]\n",
    ")"
   ]
  },
  {
   "cell_type": "code",
   "execution_count": 117,
   "id": "8adfeace",
   "metadata": {},
   "outputs": [
    {
     "data": {
      "text/plain": [
       "VotingRegressor(estimators=[('ElasticNet', ElasticNet(alpha=0.1, l1_ratio=0.1)),\n",
       "                            ('RandomForest',\n",
       "                             RandomForestRegressor(max_depth=15,\n",
       "                                                   min_samples_split=3,\n",
       "                                                   n_estimators=500,\n",
       "                                                   random_state=8)),\n",
       "                            ('GradientBoost',\n",
       "                             GradientBoostingRegressor(max_depth=15,\n",
       "                                                       max_features=0.1,\n",
       "                                                       min_samples_leaf=10,\n",
       "                                                       n_estimators=300,\n",
       "                                                       random_state=8)),\n",
       "                            ('Ridge', Ridge(alpha=10, solver='sag'))],\n",
       "                weights=[1, 1, 2, 1])"
      ]
     },
     "execution_count": 117,
     "metadata": {},
     "output_type": "execute_result"
    }
   ],
   "source": [
    "votingregressor.fit(X_train_scaled,y_train_scaled)"
   ]
  },
  {
   "cell_type": "code",
   "execution_count": 118,
   "id": "91901c3f",
   "metadata": {},
   "outputs": [],
   "source": [
    "X_test_scaled = X_test.apply(standardize)"
   ]
  },
  {
   "cell_type": "code",
   "execution_count": 119,
   "id": "899d0140",
   "metadata": {},
   "outputs": [],
   "source": [
    "y_pred_scaled = votingregressor.predict(X_test_scaled)"
   ]
  },
  {
   "cell_type": "code",
   "execution_count": 120,
   "id": "6cd4c090",
   "metadata": {},
   "outputs": [],
   "source": [
    "def unstandardize(column, original_column):\n",
    "    return column*original_column.std()+original_column.mean()"
   ]
  },
  {
   "cell_type": "code",
   "execution_count": 121,
   "id": "0b836e64",
   "metadata": {},
   "outputs": [],
   "source": [
    "y_pred = unstandardize(y_pred_scaled, y_train)"
   ]
  },
  {
   "cell_type": "code",
   "execution_count": 122,
   "id": "1c4d9672",
   "metadata": {},
   "outputs": [],
   "source": [
    "submission_1 = pd.DataFrame({\"Id\":test_id, \"SalePrice\":y_pred.round(2)})"
   ]
  },
  {
   "cell_type": "code",
   "execution_count": 123,
   "id": "c68a21a8",
   "metadata": {},
   "outputs": [],
   "source": [
    "submission_1.to_csv(\"submission.csv\", index=False)"
   ]
  },
  {
   "cell_type": "markdown",
   "id": "9282002a",
   "metadata": {},
   "source": [
    "**Submission had a log nrmse 0.17199, ranking 3594 out of 4770 submissions**"
   ]
  }
 ],
 "metadata": {
  "kernelspec": {
   "display_name": "Python 3",
   "language": "python",
   "name": "python3"
  },
  "language_info": {
   "codemirror_mode": {
    "name": "ipython",
    "version": 3
   },
   "file_extension": ".py",
   "mimetype": "text/x-python",
   "name": "python",
   "nbconvert_exporter": "python",
   "pygments_lexer": "ipython3",
   "version": "3.8.8"
  }
 },
 "nbformat": 4,
 "nbformat_minor": 5
}
